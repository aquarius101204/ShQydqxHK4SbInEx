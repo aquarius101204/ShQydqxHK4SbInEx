{
 "cells": [
  {
   "cell_type": "markdown",
   "id": "51a43120",
   "metadata": {},
   "source": [
    "# Import Dataset"
   ]
  },
  {
   "cell_type": "code",
   "execution_count": 1,
   "id": "2172fc06",
   "metadata": {},
   "outputs": [],
   "source": [
    "import pandas as pd\n",
    "import numpy as np\n",
    "import matplotlib.pyplot as plt\n",
    "import seaborn as sns"
   ]
  },
  {
   "cell_type": "code",
   "execution_count": 2,
   "id": "886a26bb",
   "metadata": {},
   "outputs": [],
   "source": [
    "df = pd.read_csv(\"./term-deposit-marketing-2020.csv\")"
   ]
  },
  {
   "cell_type": "markdown",
   "id": "d03fce5d",
   "metadata": {},
   "source": [
    "# Exploratory Data Analysis"
   ]
  },
  {
   "cell_type": "code",
   "execution_count": 3,
   "id": "51088492",
   "metadata": {},
   "outputs": [
    {
     "data": {
      "text/plain": [
       "(40000, 14)"
      ]
     },
     "execution_count": 3,
     "metadata": {},
     "output_type": "execute_result"
    }
   ],
   "source": [
    "df.shape"
   ]
  },
  {
   "cell_type": "code",
   "execution_count": 4,
   "id": "e8fe0490",
   "metadata": {},
   "outputs": [
    {
     "data": {
      "text/plain": [
       "age           int64\n",
       "job          object\n",
       "marital      object\n",
       "education    object\n",
       "default      object\n",
       "balance       int64\n",
       "housing      object\n",
       "loan         object\n",
       "contact      object\n",
       "day           int64\n",
       "month        object\n",
       "duration      int64\n",
       "campaign      int64\n",
       "y            object\n",
       "dtype: object"
      ]
     },
     "execution_count": 4,
     "metadata": {},
     "output_type": "execute_result"
    }
   ],
   "source": [
    "df.dtypes"
   ]
  },
  {
   "cell_type": "code",
   "execution_count": 5,
   "id": "6aabf0a2",
   "metadata": {},
   "outputs": [
    {
     "data": {
      "text/html": [
       "<div>\n",
       "<style scoped>\n",
       "    .dataframe tbody tr th:only-of-type {\n",
       "        vertical-align: middle;\n",
       "    }\n",
       "\n",
       "    .dataframe tbody tr th {\n",
       "        vertical-align: top;\n",
       "    }\n",
       "\n",
       "    .dataframe thead th {\n",
       "        text-align: right;\n",
       "    }\n",
       "</style>\n",
       "<table border=\"1\" class=\"dataframe\">\n",
       "  <thead>\n",
       "    <tr style=\"text-align: right;\">\n",
       "      <th></th>\n",
       "      <th>age</th>\n",
       "      <th>job</th>\n",
       "      <th>marital</th>\n",
       "      <th>education</th>\n",
       "      <th>default</th>\n",
       "      <th>balance</th>\n",
       "      <th>housing</th>\n",
       "      <th>loan</th>\n",
       "      <th>contact</th>\n",
       "      <th>day</th>\n",
       "      <th>month</th>\n",
       "      <th>duration</th>\n",
       "      <th>campaign</th>\n",
       "      <th>y</th>\n",
       "    </tr>\n",
       "  </thead>\n",
       "  <tbody>\n",
       "    <tr>\n",
       "      <th>0</th>\n",
       "      <td>58</td>\n",
       "      <td>management</td>\n",
       "      <td>married</td>\n",
       "      <td>tertiary</td>\n",
       "      <td>no</td>\n",
       "      <td>2143</td>\n",
       "      <td>yes</td>\n",
       "      <td>no</td>\n",
       "      <td>unknown</td>\n",
       "      <td>5</td>\n",
       "      <td>may</td>\n",
       "      <td>261</td>\n",
       "      <td>1</td>\n",
       "      <td>no</td>\n",
       "    </tr>\n",
       "    <tr>\n",
       "      <th>1</th>\n",
       "      <td>44</td>\n",
       "      <td>technician</td>\n",
       "      <td>single</td>\n",
       "      <td>secondary</td>\n",
       "      <td>no</td>\n",
       "      <td>29</td>\n",
       "      <td>yes</td>\n",
       "      <td>no</td>\n",
       "      <td>unknown</td>\n",
       "      <td>5</td>\n",
       "      <td>may</td>\n",
       "      <td>151</td>\n",
       "      <td>1</td>\n",
       "      <td>no</td>\n",
       "    </tr>\n",
       "    <tr>\n",
       "      <th>2</th>\n",
       "      <td>33</td>\n",
       "      <td>entrepreneur</td>\n",
       "      <td>married</td>\n",
       "      <td>secondary</td>\n",
       "      <td>no</td>\n",
       "      <td>2</td>\n",
       "      <td>yes</td>\n",
       "      <td>yes</td>\n",
       "      <td>unknown</td>\n",
       "      <td>5</td>\n",
       "      <td>may</td>\n",
       "      <td>76</td>\n",
       "      <td>1</td>\n",
       "      <td>no</td>\n",
       "    </tr>\n",
       "    <tr>\n",
       "      <th>3</th>\n",
       "      <td>47</td>\n",
       "      <td>blue-collar</td>\n",
       "      <td>married</td>\n",
       "      <td>unknown</td>\n",
       "      <td>no</td>\n",
       "      <td>1506</td>\n",
       "      <td>yes</td>\n",
       "      <td>no</td>\n",
       "      <td>unknown</td>\n",
       "      <td>5</td>\n",
       "      <td>may</td>\n",
       "      <td>92</td>\n",
       "      <td>1</td>\n",
       "      <td>no</td>\n",
       "    </tr>\n",
       "    <tr>\n",
       "      <th>4</th>\n",
       "      <td>33</td>\n",
       "      <td>unknown</td>\n",
       "      <td>single</td>\n",
       "      <td>unknown</td>\n",
       "      <td>no</td>\n",
       "      <td>1</td>\n",
       "      <td>no</td>\n",
       "      <td>no</td>\n",
       "      <td>unknown</td>\n",
       "      <td>5</td>\n",
       "      <td>may</td>\n",
       "      <td>198</td>\n",
       "      <td>1</td>\n",
       "      <td>no</td>\n",
       "    </tr>\n",
       "    <tr>\n",
       "      <th>5</th>\n",
       "      <td>35</td>\n",
       "      <td>management</td>\n",
       "      <td>married</td>\n",
       "      <td>tertiary</td>\n",
       "      <td>no</td>\n",
       "      <td>231</td>\n",
       "      <td>yes</td>\n",
       "      <td>no</td>\n",
       "      <td>unknown</td>\n",
       "      <td>5</td>\n",
       "      <td>may</td>\n",
       "      <td>139</td>\n",
       "      <td>1</td>\n",
       "      <td>no</td>\n",
       "    </tr>\n",
       "    <tr>\n",
       "      <th>6</th>\n",
       "      <td>28</td>\n",
       "      <td>management</td>\n",
       "      <td>single</td>\n",
       "      <td>tertiary</td>\n",
       "      <td>no</td>\n",
       "      <td>447</td>\n",
       "      <td>yes</td>\n",
       "      <td>yes</td>\n",
       "      <td>unknown</td>\n",
       "      <td>5</td>\n",
       "      <td>may</td>\n",
       "      <td>217</td>\n",
       "      <td>1</td>\n",
       "      <td>no</td>\n",
       "    </tr>\n",
       "    <tr>\n",
       "      <th>7</th>\n",
       "      <td>42</td>\n",
       "      <td>entrepreneur</td>\n",
       "      <td>divorced</td>\n",
       "      <td>tertiary</td>\n",
       "      <td>yes</td>\n",
       "      <td>2</td>\n",
       "      <td>yes</td>\n",
       "      <td>no</td>\n",
       "      <td>unknown</td>\n",
       "      <td>5</td>\n",
       "      <td>may</td>\n",
       "      <td>380</td>\n",
       "      <td>1</td>\n",
       "      <td>no</td>\n",
       "    </tr>\n",
       "    <tr>\n",
       "      <th>8</th>\n",
       "      <td>58</td>\n",
       "      <td>retired</td>\n",
       "      <td>married</td>\n",
       "      <td>primary</td>\n",
       "      <td>no</td>\n",
       "      <td>121</td>\n",
       "      <td>yes</td>\n",
       "      <td>no</td>\n",
       "      <td>unknown</td>\n",
       "      <td>5</td>\n",
       "      <td>may</td>\n",
       "      <td>50</td>\n",
       "      <td>1</td>\n",
       "      <td>no</td>\n",
       "    </tr>\n",
       "    <tr>\n",
       "      <th>9</th>\n",
       "      <td>43</td>\n",
       "      <td>technician</td>\n",
       "      <td>single</td>\n",
       "      <td>secondary</td>\n",
       "      <td>no</td>\n",
       "      <td>593</td>\n",
       "      <td>yes</td>\n",
       "      <td>no</td>\n",
       "      <td>unknown</td>\n",
       "      <td>5</td>\n",
       "      <td>may</td>\n",
       "      <td>55</td>\n",
       "      <td>1</td>\n",
       "      <td>no</td>\n",
       "    </tr>\n",
       "  </tbody>\n",
       "</table>\n",
       "</div>"
      ],
      "text/plain": [
       "   age           job   marital  education default  balance housing loan  \\\n",
       "0   58    management   married   tertiary      no     2143     yes   no   \n",
       "1   44    technician    single  secondary      no       29     yes   no   \n",
       "2   33  entrepreneur   married  secondary      no        2     yes  yes   \n",
       "3   47   blue-collar   married    unknown      no     1506     yes   no   \n",
       "4   33       unknown    single    unknown      no        1      no   no   \n",
       "5   35    management   married   tertiary      no      231     yes   no   \n",
       "6   28    management    single   tertiary      no      447     yes  yes   \n",
       "7   42  entrepreneur  divorced   tertiary     yes        2     yes   no   \n",
       "8   58       retired   married    primary      no      121     yes   no   \n",
       "9   43    technician    single  secondary      no      593     yes   no   \n",
       "\n",
       "   contact  day month  duration  campaign   y  \n",
       "0  unknown    5   may       261         1  no  \n",
       "1  unknown    5   may       151         1  no  \n",
       "2  unknown    5   may        76         1  no  \n",
       "3  unknown    5   may        92         1  no  \n",
       "4  unknown    5   may       198         1  no  \n",
       "5  unknown    5   may       139         1  no  \n",
       "6  unknown    5   may       217         1  no  \n",
       "7  unknown    5   may       380         1  no  \n",
       "8  unknown    5   may        50         1  no  \n",
       "9  unknown    5   may        55         1  no  "
      ]
     },
     "execution_count": 5,
     "metadata": {},
     "output_type": "execute_result"
    }
   ],
   "source": [
    "df.head(10)"
   ]
  },
  {
   "cell_type": "code",
   "execution_count": 6,
   "id": "02fb545f",
   "metadata": {},
   "outputs": [
    {
     "data": {
      "text/html": [
       "<div>\n",
       "<style scoped>\n",
       "    .dataframe tbody tr th:only-of-type {\n",
       "        vertical-align: middle;\n",
       "    }\n",
       "\n",
       "    .dataframe tbody tr th {\n",
       "        vertical-align: top;\n",
       "    }\n",
       "\n",
       "    .dataframe thead th {\n",
       "        text-align: right;\n",
       "    }\n",
       "</style>\n",
       "<table border=\"1\" class=\"dataframe\">\n",
       "  <thead>\n",
       "    <tr style=\"text-align: right;\">\n",
       "      <th></th>\n",
       "      <th>age</th>\n",
       "      <th>job</th>\n",
       "      <th>marital</th>\n",
       "      <th>education</th>\n",
       "      <th>default</th>\n",
       "      <th>balance</th>\n",
       "      <th>housing</th>\n",
       "      <th>loan</th>\n",
       "      <th>contact</th>\n",
       "      <th>day</th>\n",
       "      <th>month</th>\n",
       "      <th>duration</th>\n",
       "      <th>campaign</th>\n",
       "      <th>y</th>\n",
       "    </tr>\n",
       "  </thead>\n",
       "  <tbody>\n",
       "    <tr>\n",
       "      <th>39990</th>\n",
       "      <td>26</td>\n",
       "      <td>technician</td>\n",
       "      <td>single</td>\n",
       "      <td>secondary</td>\n",
       "      <td>no</td>\n",
       "      <td>1231</td>\n",
       "      <td>yes</td>\n",
       "      <td>no</td>\n",
       "      <td>cellular</td>\n",
       "      <td>3</td>\n",
       "      <td>jun</td>\n",
       "      <td>385</td>\n",
       "      <td>2</td>\n",
       "      <td>yes</td>\n",
       "    </tr>\n",
       "    <tr>\n",
       "      <th>39991</th>\n",
       "      <td>33</td>\n",
       "      <td>services</td>\n",
       "      <td>single</td>\n",
       "      <td>tertiary</td>\n",
       "      <td>no</td>\n",
       "      <td>1268</td>\n",
       "      <td>yes</td>\n",
       "      <td>no</td>\n",
       "      <td>cellular</td>\n",
       "      <td>3</td>\n",
       "      <td>jun</td>\n",
       "      <td>2219</td>\n",
       "      <td>1</td>\n",
       "      <td>no</td>\n",
       "    </tr>\n",
       "    <tr>\n",
       "      <th>39992</th>\n",
       "      <td>45</td>\n",
       "      <td>technician</td>\n",
       "      <td>married</td>\n",
       "      <td>secondary</td>\n",
       "      <td>no</td>\n",
       "      <td>406</td>\n",
       "      <td>yes</td>\n",
       "      <td>no</td>\n",
       "      <td>cellular</td>\n",
       "      <td>3</td>\n",
       "      <td>jun</td>\n",
       "      <td>240</td>\n",
       "      <td>1</td>\n",
       "      <td>no</td>\n",
       "    </tr>\n",
       "    <tr>\n",
       "      <th>39993</th>\n",
       "      <td>32</td>\n",
       "      <td>management</td>\n",
       "      <td>married</td>\n",
       "      <td>tertiary</td>\n",
       "      <td>no</td>\n",
       "      <td>3154</td>\n",
       "      <td>no</td>\n",
       "      <td>no</td>\n",
       "      <td>cellular</td>\n",
       "      <td>3</td>\n",
       "      <td>jun</td>\n",
       "      <td>126</td>\n",
       "      <td>1</td>\n",
       "      <td>no</td>\n",
       "    </tr>\n",
       "    <tr>\n",
       "      <th>39994</th>\n",
       "      <td>35</td>\n",
       "      <td>management</td>\n",
       "      <td>married</td>\n",
       "      <td>tertiary</td>\n",
       "      <td>no</td>\n",
       "      <td>3109</td>\n",
       "      <td>yes</td>\n",
       "      <td>no</td>\n",
       "      <td>cellular</td>\n",
       "      <td>3</td>\n",
       "      <td>jun</td>\n",
       "      <td>467</td>\n",
       "      <td>1</td>\n",
       "      <td>no</td>\n",
       "    </tr>\n",
       "    <tr>\n",
       "      <th>39995</th>\n",
       "      <td>53</td>\n",
       "      <td>technician</td>\n",
       "      <td>married</td>\n",
       "      <td>tertiary</td>\n",
       "      <td>no</td>\n",
       "      <td>395</td>\n",
       "      <td>no</td>\n",
       "      <td>no</td>\n",
       "      <td>cellular</td>\n",
       "      <td>3</td>\n",
       "      <td>jun</td>\n",
       "      <td>107</td>\n",
       "      <td>1</td>\n",
       "      <td>no</td>\n",
       "    </tr>\n",
       "    <tr>\n",
       "      <th>39996</th>\n",
       "      <td>30</td>\n",
       "      <td>management</td>\n",
       "      <td>single</td>\n",
       "      <td>tertiary</td>\n",
       "      <td>no</td>\n",
       "      <td>3340</td>\n",
       "      <td>no</td>\n",
       "      <td>no</td>\n",
       "      <td>cellular</td>\n",
       "      <td>3</td>\n",
       "      <td>jun</td>\n",
       "      <td>238</td>\n",
       "      <td>3</td>\n",
       "      <td>yes</td>\n",
       "    </tr>\n",
       "    <tr>\n",
       "      <th>39997</th>\n",
       "      <td>54</td>\n",
       "      <td>admin</td>\n",
       "      <td>divorced</td>\n",
       "      <td>secondary</td>\n",
       "      <td>no</td>\n",
       "      <td>200</td>\n",
       "      <td>no</td>\n",
       "      <td>no</td>\n",
       "      <td>cellular</td>\n",
       "      <td>3</td>\n",
       "      <td>jun</td>\n",
       "      <td>170</td>\n",
       "      <td>1</td>\n",
       "      <td>yes</td>\n",
       "    </tr>\n",
       "    <tr>\n",
       "      <th>39998</th>\n",
       "      <td>34</td>\n",
       "      <td>management</td>\n",
       "      <td>married</td>\n",
       "      <td>tertiary</td>\n",
       "      <td>no</td>\n",
       "      <td>1047</td>\n",
       "      <td>no</td>\n",
       "      <td>no</td>\n",
       "      <td>cellular</td>\n",
       "      <td>3</td>\n",
       "      <td>jun</td>\n",
       "      <td>342</td>\n",
       "      <td>1</td>\n",
       "      <td>no</td>\n",
       "    </tr>\n",
       "    <tr>\n",
       "      <th>39999</th>\n",
       "      <td>38</td>\n",
       "      <td>technician</td>\n",
       "      <td>married</td>\n",
       "      <td>secondary</td>\n",
       "      <td>no</td>\n",
       "      <td>1442</td>\n",
       "      <td>yes</td>\n",
       "      <td>no</td>\n",
       "      <td>cellular</td>\n",
       "      <td>3</td>\n",
       "      <td>jun</td>\n",
       "      <td>113</td>\n",
       "      <td>1</td>\n",
       "      <td>no</td>\n",
       "    </tr>\n",
       "  </tbody>\n",
       "</table>\n",
       "</div>"
      ],
      "text/plain": [
       "       age         job   marital  education default  balance housing loan  \\\n",
       "39990   26  technician    single  secondary      no     1231     yes   no   \n",
       "39991   33    services    single   tertiary      no     1268     yes   no   \n",
       "39992   45  technician   married  secondary      no      406     yes   no   \n",
       "39993   32  management   married   tertiary      no     3154      no   no   \n",
       "39994   35  management   married   tertiary      no     3109     yes   no   \n",
       "39995   53  technician   married   tertiary      no      395      no   no   \n",
       "39996   30  management    single   tertiary      no     3340      no   no   \n",
       "39997   54       admin  divorced  secondary      no      200      no   no   \n",
       "39998   34  management   married   tertiary      no     1047      no   no   \n",
       "39999   38  technician   married  secondary      no     1442     yes   no   \n",
       "\n",
       "        contact  day month  duration  campaign    y  \n",
       "39990  cellular    3   jun       385         2  yes  \n",
       "39991  cellular    3   jun      2219         1   no  \n",
       "39992  cellular    3   jun       240         1   no  \n",
       "39993  cellular    3   jun       126         1   no  \n",
       "39994  cellular    3   jun       467         1   no  \n",
       "39995  cellular    3   jun       107         1   no  \n",
       "39996  cellular    3   jun       238         3  yes  \n",
       "39997  cellular    3   jun       170         1  yes  \n",
       "39998  cellular    3   jun       342         1   no  \n",
       "39999  cellular    3   jun       113         1   no  "
      ]
     },
     "execution_count": 6,
     "metadata": {},
     "output_type": "execute_result"
    }
   ],
   "source": [
    "df.tail(10)"
   ]
  },
  {
   "cell_type": "code",
   "execution_count": 7,
   "id": "708372d4",
   "metadata": {},
   "outputs": [
    {
     "name": "stdout",
     "output_type": "stream",
     "text": [
      "<class 'pandas.core.frame.DataFrame'>\n",
      "RangeIndex: 40000 entries, 0 to 39999\n",
      "Data columns (total 14 columns):\n",
      " #   Column     Non-Null Count  Dtype \n",
      "---  ------     --------------  ----- \n",
      " 0   age        40000 non-null  int64 \n",
      " 1   job        40000 non-null  object\n",
      " 2   marital    40000 non-null  object\n",
      " 3   education  40000 non-null  object\n",
      " 4   default    40000 non-null  object\n",
      " 5   balance    40000 non-null  int64 \n",
      " 6   housing    40000 non-null  object\n",
      " 7   loan       40000 non-null  object\n",
      " 8   contact    40000 non-null  object\n",
      " 9   day        40000 non-null  int64 \n",
      " 10  month      40000 non-null  object\n",
      " 11  duration   40000 non-null  int64 \n",
      " 12  campaign   40000 non-null  int64 \n",
      " 13  y          40000 non-null  object\n",
      "dtypes: int64(5), object(9)\n",
      "memory usage: 4.3+ MB\n"
     ]
    }
   ],
   "source": [
    "df.info()"
   ]
  },
  {
   "cell_type": "code",
   "execution_count": 8,
   "id": "16233a04",
   "metadata": {},
   "outputs": [
    {
     "data": {
      "text/html": [
       "<div>\n",
       "<style scoped>\n",
       "    .dataframe tbody tr th:only-of-type {\n",
       "        vertical-align: middle;\n",
       "    }\n",
       "\n",
       "    .dataframe tbody tr th {\n",
       "        vertical-align: top;\n",
       "    }\n",
       "\n",
       "    .dataframe thead th {\n",
       "        text-align: right;\n",
       "    }\n",
       "</style>\n",
       "<table border=\"1\" class=\"dataframe\">\n",
       "  <thead>\n",
       "    <tr style=\"text-align: right;\">\n",
       "      <th></th>\n",
       "      <th>age</th>\n",
       "      <th>balance</th>\n",
       "      <th>day</th>\n",
       "      <th>duration</th>\n",
       "      <th>campaign</th>\n",
       "    </tr>\n",
       "  </thead>\n",
       "  <tbody>\n",
       "    <tr>\n",
       "      <th>count</th>\n",
       "      <td>40000.000000</td>\n",
       "      <td>40000.000000</td>\n",
       "      <td>40000.000000</td>\n",
       "      <td>40000.000000</td>\n",
       "      <td>40000.000000</td>\n",
       "    </tr>\n",
       "    <tr>\n",
       "      <th>mean</th>\n",
       "      <td>40.544600</td>\n",
       "      <td>1274.277550</td>\n",
       "      <td>16.017225</td>\n",
       "      <td>254.824300</td>\n",
       "      <td>2.882175</td>\n",
       "    </tr>\n",
       "    <tr>\n",
       "      <th>std</th>\n",
       "      <td>9.641776</td>\n",
       "      <td>2903.769716</td>\n",
       "      <td>8.278127</td>\n",
       "      <td>259.366498</td>\n",
       "      <td>3.239051</td>\n",
       "    </tr>\n",
       "    <tr>\n",
       "      <th>min</th>\n",
       "      <td>19.000000</td>\n",
       "      <td>-8019.000000</td>\n",
       "      <td>1.000000</td>\n",
       "      <td>0.000000</td>\n",
       "      <td>1.000000</td>\n",
       "    </tr>\n",
       "    <tr>\n",
       "      <th>25%</th>\n",
       "      <td>33.000000</td>\n",
       "      <td>54.000000</td>\n",
       "      <td>8.000000</td>\n",
       "      <td>100.000000</td>\n",
       "      <td>1.000000</td>\n",
       "    </tr>\n",
       "    <tr>\n",
       "      <th>50%</th>\n",
       "      <td>39.000000</td>\n",
       "      <td>407.000000</td>\n",
       "      <td>17.000000</td>\n",
       "      <td>175.000000</td>\n",
       "      <td>2.000000</td>\n",
       "    </tr>\n",
       "    <tr>\n",
       "      <th>75%</th>\n",
       "      <td>48.000000</td>\n",
       "      <td>1319.000000</td>\n",
       "      <td>21.000000</td>\n",
       "      <td>313.000000</td>\n",
       "      <td>3.000000</td>\n",
       "    </tr>\n",
       "    <tr>\n",
       "      <th>max</th>\n",
       "      <td>95.000000</td>\n",
       "      <td>102127.000000</td>\n",
       "      <td>31.000000</td>\n",
       "      <td>4918.000000</td>\n",
       "      <td>63.000000</td>\n",
       "    </tr>\n",
       "  </tbody>\n",
       "</table>\n",
       "</div>"
      ],
      "text/plain": [
       "                age        balance           day      duration      campaign\n",
       "count  40000.000000   40000.000000  40000.000000  40000.000000  40000.000000\n",
       "mean      40.544600    1274.277550     16.017225    254.824300      2.882175\n",
       "std        9.641776    2903.769716      8.278127    259.366498      3.239051\n",
       "min       19.000000   -8019.000000      1.000000      0.000000      1.000000\n",
       "25%       33.000000      54.000000      8.000000    100.000000      1.000000\n",
       "50%       39.000000     407.000000     17.000000    175.000000      2.000000\n",
       "75%       48.000000    1319.000000     21.000000    313.000000      3.000000\n",
       "max       95.000000  102127.000000     31.000000   4918.000000     63.000000"
      ]
     },
     "execution_count": 8,
     "metadata": {},
     "output_type": "execute_result"
    }
   ],
   "source": [
    "df.describe()"
   ]
  },
  {
   "cell_type": "code",
   "execution_count": 9,
   "id": "76ac17cb",
   "metadata": {},
   "outputs": [
    {
     "data": {
      "text/plain": [
       "array([False])"
      ]
     },
     "execution_count": 9,
     "metadata": {},
     "output_type": "execute_result"
    }
   ],
   "source": [
    "df[\"age\"].isnull().unique()\n",
    "df[\"balance\"].isnull().unique()"
   ]
  },
  {
   "cell_type": "markdown",
   "id": "750d22a4",
   "metadata": {},
   "source": [
    "We can see that there is no missing values as all columns have 40,000 data each.\n",
    "<br>In addition, the five integer columns above have all integer data only.</br>"
   ]
  },
  {
   "cell_type": "markdown",
   "id": "7b11814f",
   "metadata": {},
   "source": [
    "### Browsing non-integer columns"
   ]
  },
  {
   "cell_type": "code",
   "execution_count": 10,
   "id": "c507e4c5",
   "metadata": {},
   "outputs": [
    {
     "data": {
      "text/plain": [
       "blue-collar      9383\n",
       "management       8166\n",
       "technician       6852\n",
       "admin            4483\n",
       "services         3910\n",
       "retired          1437\n",
       "self-employed    1414\n",
       "entrepreneur     1405\n",
       "unemployed       1104\n",
       "housemaid        1087\n",
       "student           524\n",
       "unknown           235\n",
       "Name: job, dtype: int64"
      ]
     },
     "execution_count": 10,
     "metadata": {},
     "output_type": "execute_result"
    }
   ],
   "source": [
    "df[\"job\"].value_counts()"
   ]
  },
  {
   "cell_type": "code",
   "execution_count": 11,
   "id": "c1f533cb",
   "metadata": {},
   "outputs": [
    {
     "data": {
      "text/plain": [
       "married     24386\n",
       "single      10889\n",
       "divorced     4725\n",
       "Name: marital, dtype: int64"
      ]
     },
     "execution_count": 11,
     "metadata": {},
     "output_type": "execute_result"
    }
   ],
   "source": [
    "df[\"marital\"].value_counts()"
   ]
  },
  {
   "cell_type": "code",
   "execution_count": 12,
   "id": "8090827d",
   "metadata": {
    "scrolled": true
   },
   "outputs": [
    {
     "data": {
      "text/plain": [
       "secondary    20993\n",
       "tertiary     11206\n",
       "primary       6270\n",
       "unknown       1531\n",
       "Name: education, dtype: int64"
      ]
     },
     "execution_count": 12,
     "metadata": {},
     "output_type": "execute_result"
    }
   ],
   "source": [
    "df[\"education\"].value_counts()"
   ]
  },
  {
   "cell_type": "code",
   "execution_count": 13,
   "id": "cf2e4dbc",
   "metadata": {},
   "outputs": [
    {
     "data": {
      "text/plain": [
       "no     39191\n",
       "yes      809\n",
       "Name: default, dtype: int64"
      ]
     },
     "execution_count": 13,
     "metadata": {},
     "output_type": "execute_result"
    }
   ],
   "source": [
    "df[\"default\"].value_counts()"
   ]
  },
  {
   "cell_type": "code",
   "execution_count": 14,
   "id": "7869c3e9",
   "metadata": {},
   "outputs": [
    {
     "data": {
      "text/plain": [
       "yes    24031\n",
       "no     15969\n",
       "Name: housing, dtype: int64"
      ]
     },
     "execution_count": 14,
     "metadata": {},
     "output_type": "execute_result"
    }
   ],
   "source": [
    "df[\"housing\"].value_counts()"
   ]
  },
  {
   "cell_type": "code",
   "execution_count": 15,
   "id": "734a936f",
   "metadata": {},
   "outputs": [
    {
     "data": {
      "text/plain": [
       "no     33070\n",
       "yes     6930\n",
       "Name: loan, dtype: int64"
      ]
     },
     "execution_count": 15,
     "metadata": {},
     "output_type": "execute_result"
    }
   ],
   "source": [
    "df[\"loan\"].value_counts()"
   ]
  },
  {
   "cell_type": "code",
   "execution_count": 16,
   "id": "44a8881b",
   "metadata": {},
   "outputs": [
    {
     "data": {
      "text/plain": [
       "cellular     24914\n",
       "unknown      12765\n",
       "telephone     2321\n",
       "Name: contact, dtype: int64"
      ]
     },
     "execution_count": 16,
     "metadata": {},
     "output_type": "execute_result"
    }
   ],
   "source": [
    "df[\"contact\"].value_counts()"
   ]
  },
  {
   "cell_type": "code",
   "execution_count": 17,
   "id": "19917be5",
   "metadata": {
    "scrolled": true
   },
   "outputs": [
    {
     "data": {
      "text/plain": [
       "may    13532\n",
       "jul     6380\n",
       "aug     5215\n",
       "jun     4734\n",
       "nov     3598\n",
       "apr     2718\n",
       "feb     2296\n",
       "jan     1176\n",
       "mar      258\n",
       "oct       80\n",
       "dec       13\n",
       "Name: month, dtype: int64"
      ]
     },
     "execution_count": 17,
     "metadata": {},
     "output_type": "execute_result"
    }
   ],
   "source": [
    "df[\"month\"].value_counts()"
   ]
  },
  {
   "cell_type": "markdown",
   "id": "af36c8a0",
   "metadata": {},
   "source": [
    "September doesn't exists."
   ]
  },
  {
   "cell_type": "code",
   "execution_count": 18,
   "id": "131bfc83",
   "metadata": {},
   "outputs": [
    {
     "data": {
      "text/plain": [
       "no     37104\n",
       "yes     2896\n",
       "Name: y, dtype: int64"
      ]
     },
     "execution_count": 18,
     "metadata": {},
     "output_type": "execute_result"
    }
   ],
   "source": [
    "df[\"y\"].value_counts()"
   ]
  },
  {
   "cell_type": "markdown",
   "id": "ccde7271",
   "metadata": {},
   "source": [
    "# Data Visualization"
   ]
  },
  {
   "cell_type": "code",
   "execution_count": 19,
   "id": "4001b1d9",
   "metadata": {},
   "outputs": [
    {
     "data": {
      "image/png": "[encoded data removed]",
      "text/plain": [
       "<Figure size 1152x576 with 1 Axes>"
      ]
     },
     "metadata": {
      "needs_background": "light"
     },
     "output_type": "display_data"
    }
   ],
   "source": [
    "# Create fig, ax objects\n",
    "fig, ax = plt.subplots(figsize=(16, 8))\n",
    "\n",
    "sns.countplot(data=df, x=\"age\", hue=\"y\")\n",
    "ax.set(title='age', xlabel='age', ylabel='y')\n",
    "ax.legend()\n",
    "plt.show()"
   ]
  },
  {
   "cell_type": "code",
   "execution_count": 20,
   "id": "d0f61211",
   "metadata": {},
   "outputs": [
    {
     "data": {
      "image/png": "[encoded data removed]",
      "text/plain": [
       "<Figure size 1152x576 with 1 Axes>"
      ]
     },
     "metadata": {
      "needs_background": "light"
     },
     "output_type": "display_data"
    }
   ],
   "source": [
    "# Create fig, ax objects\n",
    "fig, ax = plt.subplots(figsize=(16, 8))\n",
    "\n",
    "sns.countplot(data=df, x=\"job\", hue=\"y\")\n",
    "ax.set(title='job', xlabel='job', ylabel='y')\n",
    "ax.legend()\n",
    "plt.show()"
   ]
  },
  {
   "cell_type": "code",
   "execution_count": 21,
   "id": "1297304f",
   "metadata": {},
   "outputs": [
    {
     "data": {
      "image/png": "[encoded data removed]",
      "text/plain": [
       "<Figure size 1152x576 with 1 Axes>"
      ]
     },
     "metadata": {
      "needs_background": "light"
     },
     "output_type": "display_data"
    }
   ],
   "source": [
    "# Create fig, ax objects\n",
    "fig, ax = plt.subplots(figsize=(16, 8))\n",
    "\n",
    "sns.countplot(data=df, x=\"marital\", hue=\"y\")\n",
    "ax.set(title='marital', xlabel='marital', ylabel='y')\n",
    "ax.legend()\n",
    "plt.show()"
   ]
  },
  {
   "cell_type": "code",
   "execution_count": 22,
   "id": "23574ffe",
   "metadata": {},
   "outputs": [
    {
     "data": {
      "image/png": "[encoded data removed]",
      "text/plain": [
       "<Figure size 1152x576 with 1 Axes>"
      ]
     },
     "metadata": {
      "needs_background": "light"
     },
     "output_type": "display_data"
    }
   ],
   "source": [
    "# Create fig, ax objects\n",
    "fig, ax = plt.subplots(figsize=(16, 8))\n",
    "\n",
    "sns.countplot(data=df, x=\"education\", hue=\"y\")\n",
    "ax.set(title='education', xlabel='education', ylabel='y')\n",
    "ax.legend()\n",
    "plt.show()"
   ]
  },
  {
   "cell_type": "code",
   "execution_count": 23,
   "id": "9c4fbce6",
   "metadata": {},
   "outputs": [
    {
     "data": {
      "image/png": "[encoded data removed]",
      "text/plain": [
       "<Figure size 864x576 with 1 Axes>"
      ]
     },
     "metadata": {
      "needs_background": "light"
     },
     "output_type": "display_data"
    }
   ],
   "source": [
    "# Create fig, ax objects\n",
    "fig, ax = plt.subplots(figsize=(12, 8))\n",
    "\n",
    "sns.countplot(data=df, x=\"default\", hue=\"y\")\n",
    "ax.set(title='default', xlabel='default', ylabel='y')\n",
    "ax.legend()\n",
    "plt.show()"
   ]
  },
  {
   "cell_type": "code",
   "execution_count": 24,
   "id": "7af8fbc8",
   "metadata": {},
   "outputs": [
    {
     "data": {
      "image/png": "[encoded data removed]",
      "text/plain": [
       "<Figure size 864x576 with 1 Axes>"
      ]
     },
     "metadata": {
      "needs_background": "light"
     },
     "output_type": "display_data"
    }
   ],
   "source": [
    "# Create fig, ax objects\n",
    "fig, ax = plt.subplots(figsize=(12, 8))\n",
    "\n",
    "sns.countplot(data=df, x=\"housing\", hue=\"y\")\n",
    "ax.set(title='housing', xlabel='housing', ylabel='y')\n",
    "ax.legend()\n",
    "plt.show()"
   ]
  },
  {
   "cell_type": "code",
   "execution_count": 25,
   "id": "8873d7a5",
   "metadata": {},
   "outputs": [
    {
     "data": {
      "image/png": "[encoded data removed]",
      "text/plain": [
       "<Figure size 864x576 with 1 Axes>"
      ]
     },
     "metadata": {
      "needs_background": "light"
     },
     "output_type": "display_data"
    }
   ],
   "source": [
    "# Create fig, ax objects\n",
    "fig, ax = plt.subplots(figsize=(12, 8))\n",
    "\n",
    "sns.countplot(data=df, x=\"loan\", hue=\"y\")\n",
    "ax.set(title='loan', xlabel='loan', ylabel='y')\n",
    "ax.legend()\n",
    "plt.show()"
   ]
  },
  {
   "cell_type": "code",
   "execution_count": 26,
   "id": "27e57c88",
   "metadata": {},
   "outputs": [
    {
     "data": {
      "image/png": "[encoded data removed]",
      "text/plain": [
       "<Figure size 864x576 with 1 Axes>"
      ]
     },
     "metadata": {
      "needs_background": "light"
     },
     "output_type": "display_data"
    }
   ],
   "source": [
    "# Create fig, ax objects\n",
    "fig, ax = plt.subplots(figsize=(12, 8))\n",
    "\n",
    "sns.countplot(data=df, x=\"contact\", hue=\"y\")\n",
    "ax.set(title='contact', xlabel='contact', ylabel='y')\n",
    "ax.legend()\n",
    "plt.show()"
   ]
  },
  {
   "cell_type": "code",
   "execution_count": 27,
   "id": "430ff01d",
   "metadata": {},
   "outputs": [
    {
     "data": {
      "image/png": "[encoded data removed]",
      "text/plain": [
       "<Figure size 864x576 with 1 Axes>"
      ]
     },
     "metadata": {
      "needs_background": "light"
     },
     "output_type": "display_data"
    }
   ],
   "source": [
    "# Create fig, ax objects\n",
    "fig, ax = plt.subplots(figsize=(12, 8))\n",
    "\n",
    "sns.countplot(data=df, x=\"day\", hue=\"y\")\n",
    "ax.set(title='day', xlabel='day', ylabel='y')\n",
    "ax.legend()\n",
    "plt.show()"
   ]
  },
  {
   "cell_type": "code",
   "execution_count": 28,
   "id": "fce7a4e6",
   "metadata": {},
   "outputs": [
    {
     "data": {
      "image/png": "[encoded data removed]",
      "text/plain": [
       "<Figure size 864x576 with 1 Axes>"
      ]
     },
     "metadata": {
      "needs_background": "light"
     },
     "output_type": "display_data"
    }
   ],
   "source": [
    "# Create fig, ax objects\n",
    "fig, ax = plt.subplots(figsize=(12, 8))\n",
    "\n",
    "sns.countplot(data=df, x=\"month\", hue=\"y\")\n",
    "ax.set(title='month', xlabel='month', ylabel='y')\n",
    "ax.legend()\n",
    "plt.show()"
   ]
  },
  {
   "cell_type": "code",
   "execution_count": 29,
   "id": "95ddd2dc",
   "metadata": {
    "scrolled": false
   },
   "outputs": [],
   "source": [
    "# Create fig, ax objects\n",
    "#fig, ax = plt.subplots(figsize=(12, 8))\n",
    "\n",
    "#sns.countplot(data=df, x=\"duration\", hue=\"y\")\n",
    "#ax.set(title='duration', xlabel='duration', ylabel='y')\n",
    "#ax.legend()\n",
    "#plt.show()"
   ]
  },
  {
   "cell_type": "code",
   "execution_count": 30,
   "id": "76059cb2",
   "metadata": {},
   "outputs": [
    {
     "data": {
      "image/png": "[encoded data removed]",
      "text/plain": [
       "<Figure size 864x576 with 1 Axes>"
      ]
     },
     "metadata": {
      "needs_background": "light"
     },
     "output_type": "display_data"
    }
   ],
   "source": [
    "# Create fig, ax objects\n",
    "fig, ax = plt.subplots(figsize=(12, 8))\n",
    "\n",
    "sns.countplot(data=df, x=\"campaign\", hue=\"y\")\n",
    "ax.set(title='campaign', xlabel='campaign', ylabel='y')\n",
    "ax.legend()\n",
    "plt.show()"
   ]
  },
  {
   "cell_type": "markdown",
   "id": "2f0e71b4",
   "metadata": {},
   "source": [
    "From the countplots above, I cannot see a specific correlation between each column and y.\n",
    "<br> I will try a Heatmap after data wrangling.</br>"
   ]
  },
  {
   "cell_type": "markdown",
   "id": "96f6ce9e",
   "metadata": {},
   "source": [
    "# Data Wrangling"
   ]
  },
  {
   "cell_type": "markdown",
   "id": "fe28a82c",
   "metadata": {},
   "source": [
    "#### For column \"marital\", \"education\", \"job\", and \"contact\", I will use one-hot encoding for better performance."
   ]
  },
  {
   "cell_type": "code",
   "execution_count": 31,
   "id": "a8b0668a",
   "metadata": {},
   "outputs": [],
   "source": [
    "df = pd.get_dummies(df, columns=[\"marital\"], prefix=\"marital\")"
   ]
  },
  {
   "cell_type": "code",
   "execution_count": 32,
   "id": "3e0efe4e",
   "metadata": {},
   "outputs": [],
   "source": [
    "df = pd.get_dummies(df, columns=[\"education\"], prefix=\"education\")"
   ]
  },
  {
   "cell_type": "code",
   "execution_count": 33,
   "id": "3dda0b4d",
   "metadata": {},
   "outputs": [],
   "source": [
    "df = pd.get_dummies(df, columns=[\"job\"], prefix=\"job\")"
   ]
  },
  {
   "cell_type": "code",
   "execution_count": 34,
   "id": "253c0a10",
   "metadata": {},
   "outputs": [],
   "source": [
    "df = pd.get_dummies(df, columns=[\"contact\"], prefix=\"contact\")"
   ]
  },
  {
   "cell_type": "code",
   "execution_count": 35,
   "id": "f4d95f61",
   "metadata": {},
   "outputs": [
    {
     "data": {
      "text/html": [
       "<div>\n",
       "<style scoped>\n",
       "    .dataframe tbody tr th:only-of-type {\n",
       "        vertical-align: middle;\n",
       "    }\n",
       "\n",
       "    .dataframe tbody tr th {\n",
       "        vertical-align: top;\n",
       "    }\n",
       "\n",
       "    .dataframe thead th {\n",
       "        text-align: right;\n",
       "    }\n",
       "</style>\n",
       "<table border=\"1\" class=\"dataframe\">\n",
       "  <thead>\n",
       "    <tr style=\"text-align: right;\">\n",
       "      <th></th>\n",
       "      <th>age</th>\n",
       "      <th>default</th>\n",
       "      <th>balance</th>\n",
       "      <th>housing</th>\n",
       "      <th>loan</th>\n",
       "      <th>day</th>\n",
       "      <th>month</th>\n",
       "      <th>duration</th>\n",
       "      <th>campaign</th>\n",
       "      <th>y</th>\n",
       "      <th>...</th>\n",
       "      <th>job_retired</th>\n",
       "      <th>job_self-employed</th>\n",
       "      <th>job_services</th>\n",
       "      <th>job_student</th>\n",
       "      <th>job_technician</th>\n",
       "      <th>job_unemployed</th>\n",
       "      <th>job_unknown</th>\n",
       "      <th>contact_cellular</th>\n",
       "      <th>contact_telephone</th>\n",
       "      <th>contact_unknown</th>\n",
       "    </tr>\n",
       "  </thead>\n",
       "  <tbody>\n",
       "    <tr>\n",
       "      <th>0</th>\n",
       "      <td>58</td>\n",
       "      <td>no</td>\n",
       "      <td>2143</td>\n",
       "      <td>yes</td>\n",
       "      <td>no</td>\n",
       "      <td>5</td>\n",
       "      <td>may</td>\n",
       "      <td>261</td>\n",
       "      <td>1</td>\n",
       "      <td>no</td>\n",
       "      <td>...</td>\n",
       "      <td>0</td>\n",
       "      <td>0</td>\n",
       "      <td>0</td>\n",
       "      <td>0</td>\n",
       "      <td>0</td>\n",
       "      <td>0</td>\n",
       "      <td>0</td>\n",
       "      <td>0</td>\n",
       "      <td>0</td>\n",
       "      <td>1</td>\n",
       "    </tr>\n",
       "    <tr>\n",
       "      <th>1</th>\n",
       "      <td>44</td>\n",
       "      <td>no</td>\n",
       "      <td>29</td>\n",
       "      <td>yes</td>\n",
       "      <td>no</td>\n",
       "      <td>5</td>\n",
       "      <td>may</td>\n",
       "      <td>151</td>\n",
       "      <td>1</td>\n",
       "      <td>no</td>\n",
       "      <td>...</td>\n",
       "      <td>0</td>\n",
       "      <td>0</td>\n",
       "      <td>0</td>\n",
       "      <td>0</td>\n",
       "      <td>1</td>\n",
       "      <td>0</td>\n",
       "      <td>0</td>\n",
       "      <td>0</td>\n",
       "      <td>0</td>\n",
       "      <td>1</td>\n",
       "    </tr>\n",
       "    <tr>\n",
       "      <th>2</th>\n",
       "      <td>33</td>\n",
       "      <td>no</td>\n",
       "      <td>2</td>\n",
       "      <td>yes</td>\n",
       "      <td>yes</td>\n",
       "      <td>5</td>\n",
       "      <td>may</td>\n",
       "      <td>76</td>\n",
       "      <td>1</td>\n",
       "      <td>no</td>\n",
       "      <td>...</td>\n",
       "      <td>0</td>\n",
       "      <td>0</td>\n",
       "      <td>0</td>\n",
       "      <td>0</td>\n",
       "      <td>0</td>\n",
       "      <td>0</td>\n",
       "      <td>0</td>\n",
       "      <td>0</td>\n",
       "      <td>0</td>\n",
       "      <td>1</td>\n",
       "    </tr>\n",
       "    <tr>\n",
       "      <th>3</th>\n",
       "      <td>47</td>\n",
       "      <td>no</td>\n",
       "      <td>1506</td>\n",
       "      <td>yes</td>\n",
       "      <td>no</td>\n",
       "      <td>5</td>\n",
       "      <td>may</td>\n",
       "      <td>92</td>\n",
       "      <td>1</td>\n",
       "      <td>no</td>\n",
       "      <td>...</td>\n",
       "      <td>0</td>\n",
       "      <td>0</td>\n",
       "      <td>0</td>\n",
       "      <td>0</td>\n",
       "      <td>0</td>\n",
       "      <td>0</td>\n",
       "      <td>0</td>\n",
       "      <td>0</td>\n",
       "      <td>0</td>\n",
       "      <td>1</td>\n",
       "    </tr>\n",
       "    <tr>\n",
       "      <th>4</th>\n",
       "      <td>33</td>\n",
       "      <td>no</td>\n",
       "      <td>1</td>\n",
       "      <td>no</td>\n",
       "      <td>no</td>\n",
       "      <td>5</td>\n",
       "      <td>may</td>\n",
       "      <td>198</td>\n",
       "      <td>1</td>\n",
       "      <td>no</td>\n",
       "      <td>...</td>\n",
       "      <td>0</td>\n",
       "      <td>0</td>\n",
       "      <td>0</td>\n",
       "      <td>0</td>\n",
       "      <td>0</td>\n",
       "      <td>0</td>\n",
       "      <td>1</td>\n",
       "      <td>0</td>\n",
       "      <td>0</td>\n",
       "      <td>1</td>\n",
       "    </tr>\n",
       "  </tbody>\n",
       "</table>\n",
       "<p>5 rows × 32 columns</p>\n",
       "</div>"
      ],
      "text/plain": [
       "   age default  balance housing loan  day month  duration  campaign   y  ...  \\\n",
       "0   58      no     2143     yes   no    5   may       261         1  no  ...   \n",
       "1   44      no       29     yes   no    5   may       151         1  no  ...   \n",
       "2   33      no        2     yes  yes    5   may        76         1  no  ...   \n",
       "3   47      no     1506     yes   no    5   may        92         1  no  ...   \n",
       "4   33      no        1      no   no    5   may       198         1  no  ...   \n",
       "\n",
       "   job_retired  job_self-employed  job_services  job_student  job_technician  \\\n",
       "0            0                  0             0            0               0   \n",
       "1            0                  0             0            0               1   \n",
       "2            0                  0             0            0               0   \n",
       "3            0                  0             0            0               0   \n",
       "4            0                  0             0            0               0   \n",
       "\n",
       "   job_unemployed  job_unknown  contact_cellular  contact_telephone  \\\n",
       "0               0            0                 0                  0   \n",
       "1               0            0                 0                  0   \n",
       "2               0            0                 0                  0   \n",
       "3               0            0                 0                  0   \n",
       "4               0            1                 0                  0   \n",
       "\n",
       "   contact_unknown  \n",
       "0                1  \n",
       "1                1  \n",
       "2                1  \n",
       "3                1  \n",
       "4                1  \n",
       "\n",
       "[5 rows x 32 columns]"
      ]
     },
     "execution_count": 35,
     "metadata": {},
     "output_type": "execute_result"
    }
   ],
   "source": [
    "df.head()"
   ]
  },
  {
   "cell_type": "markdown",
   "id": "31a5fb86",
   "metadata": {},
   "source": [
    "#### For columns \"default\", \"housing\", and \"loan\", I will replace the values to 0 for 'no' and 1 for 'yes'."
   ]
  },
  {
   "cell_type": "code",
   "execution_count": 36,
   "id": "4755ca8b",
   "metadata": {},
   "outputs": [],
   "source": [
    "df.loc[df[\"default\"] == \"no\", \"default\"] = 0\n",
    "df.loc[df[\"default\"] == \"yes\", \"default\"] = 1"
   ]
  },
  {
   "cell_type": "code",
   "execution_count": 37,
   "id": "43cd71dd",
   "metadata": {},
   "outputs": [],
   "source": [
    "df.loc[df[\"housing\"] == \"no\", \"housing\"] = 0\n",
    "df.loc[df[\"housing\"] == \"yes\", \"housing\"] = 1"
   ]
  },
  {
   "cell_type": "code",
   "execution_count": 38,
   "id": "6e905947",
   "metadata": {},
   "outputs": [],
   "source": [
    "df.loc[df[\"loan\"] == \"no\", \"loan\"] = 0\n",
    "df.loc[df[\"loan\"] == \"yes\", \"loan\"] = 1"
   ]
  },
  {
   "cell_type": "code",
   "execution_count": 39,
   "id": "0e0ae7d2",
   "metadata": {},
   "outputs": [],
   "source": [
    "df.loc[df[\"y\"] == \"no\", \"y\"] = 0\n",
    "df.loc[df[\"y\"] == \"yes\", \"y\"] = 1"
   ]
  },
  {
   "cell_type": "code",
   "execution_count": 40,
   "id": "e99040ea",
   "metadata": {},
   "outputs": [],
   "source": [
    "df.loc[df[\"month\"] == \"jan\", \"month\"] = 1\n",
    "df.loc[df[\"month\"] == \"feb\", \"month\"] = 2\n",
    "df.loc[df[\"month\"] == \"mar\", \"month\"] = 3\n",
    "df.loc[df[\"month\"] == \"apr\", \"month\"] = 4\n",
    "df.loc[df[\"month\"] == \"may\", \"month\"] = 5\n",
    "df.loc[df[\"month\"] == \"jun\", \"month\"] = 6\n",
    "df.loc[df[\"month\"] == \"jul\", \"month\"] = 7\n",
    "df.loc[df[\"month\"] == \"aug\", \"month\"] = 8\n",
    "df.loc[df[\"month\"] == \"sep\", \"month\"] = 9\n",
    "df.loc[df[\"month\"] == \"oct\", \"month\"] = 10\n",
    "df.loc[df[\"month\"] == \"nov\", \"month\"] = 11\n",
    "df.loc[df[\"month\"] == \"dec\", \"month\"] = 12"
   ]
  },
  {
   "cell_type": "code",
   "execution_count": 41,
   "id": "8b1e504f",
   "metadata": {},
   "outputs": [
    {
     "data": {
      "text/plain": [
       "0    39191\n",
       "1      809\n",
       "Name: default, dtype: int64"
      ]
     },
     "execution_count": 41,
     "metadata": {},
     "output_type": "execute_result"
    }
   ],
   "source": [
    "df[\"default\"].value_counts()"
   ]
  },
  {
   "cell_type": "code",
   "execution_count": 42,
   "id": "7116d45e",
   "metadata": {},
   "outputs": [
    {
     "data": {
      "text/plain": [
       "1    24031\n",
       "0    15969\n",
       "Name: housing, dtype: int64"
      ]
     },
     "execution_count": 42,
     "metadata": {},
     "output_type": "execute_result"
    }
   ],
   "source": [
    "df[\"housing\"].value_counts()"
   ]
  },
  {
   "cell_type": "code",
   "execution_count": 43,
   "id": "6c638fee",
   "metadata": {},
   "outputs": [
    {
     "data": {
      "text/plain": [
       "0    33070\n",
       "1     6930\n",
       "Name: loan, dtype: int64"
      ]
     },
     "execution_count": 43,
     "metadata": {},
     "output_type": "execute_result"
    }
   ],
   "source": [
    "df[\"loan\"].value_counts()"
   ]
  },
  {
   "cell_type": "code",
   "execution_count": 44,
   "id": "8e87dd8d",
   "metadata": {},
   "outputs": [
    {
     "data": {
      "text/plain": [
       "0    37104\n",
       "1     2896\n",
       "Name: y, dtype: int64"
      ]
     },
     "execution_count": 44,
     "metadata": {},
     "output_type": "execute_result"
    }
   ],
   "source": [
    "df[\"y\"].value_counts()"
   ]
  },
  {
   "cell_type": "code",
   "execution_count": 45,
   "id": "b061bf9c",
   "metadata": {},
   "outputs": [
    {
     "data": {
      "text/plain": [
       "5     13532\n",
       "7      6380\n",
       "8      5215\n",
       "6      4734\n",
       "11     3598\n",
       "4      2718\n",
       "2      2296\n",
       "1      1176\n",
       "3       258\n",
       "10       80\n",
       "12       13\n",
       "Name: month, dtype: int64"
      ]
     },
     "execution_count": 45,
     "metadata": {},
     "output_type": "execute_result"
    }
   ],
   "source": [
    "df[\"month\"].value_counts()"
   ]
  },
  {
   "cell_type": "code",
   "execution_count": 46,
   "id": "c11efad9",
   "metadata": {},
   "outputs": [],
   "source": [
    "# Change object types to integer types to be included when drawing a Heatmap\n",
    "df[[\"default\",\"housing\",\"loan\",\"month\",\"y\"]] = df[[\"default\",\"housing\",\"loan\",\"month\",\"y\"]].astype(str).astype(int)"
   ]
  },
  {
   "cell_type": "code",
   "execution_count": 47,
   "id": "994c78d0",
   "metadata": {},
   "outputs": [
    {
     "data": {
      "text/html": [
       "<div>\n",
       "<style scoped>\n",
       "    .dataframe tbody tr th:only-of-type {\n",
       "        vertical-align: middle;\n",
       "    }\n",
       "\n",
       "    .dataframe tbody tr th {\n",
       "        vertical-align: top;\n",
       "    }\n",
       "\n",
       "    .dataframe thead th {\n",
       "        text-align: right;\n",
       "    }\n",
       "</style>\n",
       "<table border=\"1\" class=\"dataframe\">\n",
       "  <thead>\n",
       "    <tr style=\"text-align: right;\">\n",
       "      <th></th>\n",
       "      <th>age</th>\n",
       "      <th>default</th>\n",
       "      <th>balance</th>\n",
       "      <th>housing</th>\n",
       "      <th>loan</th>\n",
       "      <th>day</th>\n",
       "      <th>month</th>\n",
       "      <th>duration</th>\n",
       "      <th>campaign</th>\n",
       "      <th>y</th>\n",
       "      <th>...</th>\n",
       "      <th>job_retired</th>\n",
       "      <th>job_self-employed</th>\n",
       "      <th>job_services</th>\n",
       "      <th>job_student</th>\n",
       "      <th>job_technician</th>\n",
       "      <th>job_unemployed</th>\n",
       "      <th>job_unknown</th>\n",
       "      <th>contact_cellular</th>\n",
       "      <th>contact_telephone</th>\n",
       "      <th>contact_unknown</th>\n",
       "    </tr>\n",
       "  </thead>\n",
       "  <tbody>\n",
       "    <tr>\n",
       "      <th>0</th>\n",
       "      <td>58</td>\n",
       "      <td>0</td>\n",
       "      <td>2143</td>\n",
       "      <td>1</td>\n",
       "      <td>0</td>\n",
       "      <td>5</td>\n",
       "      <td>5</td>\n",
       "      <td>261</td>\n",
       "      <td>1</td>\n",
       "      <td>0</td>\n",
       "      <td>...</td>\n",
       "      <td>0</td>\n",
       "      <td>0</td>\n",
       "      <td>0</td>\n",
       "      <td>0</td>\n",
       "      <td>0</td>\n",
       "      <td>0</td>\n",
       "      <td>0</td>\n",
       "      <td>0</td>\n",
       "      <td>0</td>\n",
       "      <td>1</td>\n",
       "    </tr>\n",
       "    <tr>\n",
       "      <th>1</th>\n",
       "      <td>44</td>\n",
       "      <td>0</td>\n",
       "      <td>29</td>\n",
       "      <td>1</td>\n",
       "      <td>0</td>\n",
       "      <td>5</td>\n",
       "      <td>5</td>\n",
       "      <td>151</td>\n",
       "      <td>1</td>\n",
       "      <td>0</td>\n",
       "      <td>...</td>\n",
       "      <td>0</td>\n",
       "      <td>0</td>\n",
       "      <td>0</td>\n",
       "      <td>0</td>\n",
       "      <td>1</td>\n",
       "      <td>0</td>\n",
       "      <td>0</td>\n",
       "      <td>0</td>\n",
       "      <td>0</td>\n",
       "      <td>1</td>\n",
       "    </tr>\n",
       "    <tr>\n",
       "      <th>2</th>\n",
       "      <td>33</td>\n",
       "      <td>0</td>\n",
       "      <td>2</td>\n",
       "      <td>1</td>\n",
       "      <td>1</td>\n",
       "      <td>5</td>\n",
       "      <td>5</td>\n",
       "      <td>76</td>\n",
       "      <td>1</td>\n",
       "      <td>0</td>\n",
       "      <td>...</td>\n",
       "      <td>0</td>\n",
       "      <td>0</td>\n",
       "      <td>0</td>\n",
       "      <td>0</td>\n",
       "      <td>0</td>\n",
       "      <td>0</td>\n",
       "      <td>0</td>\n",
       "      <td>0</td>\n",
       "      <td>0</td>\n",
       "      <td>1</td>\n",
       "    </tr>\n",
       "    <tr>\n",
       "      <th>3</th>\n",
       "      <td>47</td>\n",
       "      <td>0</td>\n",
       "      <td>1506</td>\n",
       "      <td>1</td>\n",
       "      <td>0</td>\n",
       "      <td>5</td>\n",
       "      <td>5</td>\n",
       "      <td>92</td>\n",
       "      <td>1</td>\n",
       "      <td>0</td>\n",
       "      <td>...</td>\n",
       "      <td>0</td>\n",
       "      <td>0</td>\n",
       "      <td>0</td>\n",
       "      <td>0</td>\n",
       "      <td>0</td>\n",
       "      <td>0</td>\n",
       "      <td>0</td>\n",
       "      <td>0</td>\n",
       "      <td>0</td>\n",
       "      <td>1</td>\n",
       "    </tr>\n",
       "    <tr>\n",
       "      <th>4</th>\n",
       "      <td>33</td>\n",
       "      <td>0</td>\n",
       "      <td>1</td>\n",
       "      <td>0</td>\n",
       "      <td>0</td>\n",
       "      <td>5</td>\n",
       "      <td>5</td>\n",
       "      <td>198</td>\n",
       "      <td>1</td>\n",
       "      <td>0</td>\n",
       "      <td>...</td>\n",
       "      <td>0</td>\n",
       "      <td>0</td>\n",
       "      <td>0</td>\n",
       "      <td>0</td>\n",
       "      <td>0</td>\n",
       "      <td>0</td>\n",
       "      <td>1</td>\n",
       "      <td>0</td>\n",
       "      <td>0</td>\n",
       "      <td>1</td>\n",
       "    </tr>\n",
       "  </tbody>\n",
       "</table>\n",
       "<p>5 rows × 32 columns</p>\n",
       "</div>"
      ],
      "text/plain": [
       "   age  default  balance  housing  loan  day  month  duration  campaign  y  \\\n",
       "0   58        0     2143        1     0    5      5       261         1  0   \n",
       "1   44        0       29        1     0    5      5       151         1  0   \n",
       "2   33        0        2        1     1    5      5        76         1  0   \n",
       "3   47        0     1506        1     0    5      5        92         1  0   \n",
       "4   33        0        1        0     0    5      5       198         1  0   \n",
       "\n",
       "   ...  job_retired  job_self-employed  job_services  job_student  \\\n",
       "0  ...            0                  0             0            0   \n",
       "1  ...            0                  0             0            0   \n",
       "2  ...            0                  0             0            0   \n",
       "3  ...            0                  0             0            0   \n",
       "4  ...            0                  0             0            0   \n",
       "\n",
       "   job_technician  job_unemployed  job_unknown  contact_cellular  \\\n",
       "0               0               0            0                 0   \n",
       "1               1               0            0                 0   \n",
       "2               0               0            0                 0   \n",
       "3               0               0            0                 0   \n",
       "4               0               0            1                 0   \n",
       "\n",
       "   contact_telephone  contact_unknown  \n",
       "0                  0                1  \n",
       "1                  0                1  \n",
       "2                  0                1  \n",
       "3                  0                1  \n",
       "4                  0                1  \n",
       "\n",
       "[5 rows x 32 columns]"
      ]
     },
     "execution_count": 47,
     "metadata": {},
     "output_type": "execute_result"
    }
   ],
   "source": [
    "df.head()"
   ]
  },
  {
   "cell_type": "code",
   "execution_count": 48,
   "id": "162b62ff",
   "metadata": {
    "scrolled": false
   },
   "outputs": [
    {
     "name": "stdout",
     "output_type": "stream",
     "text": [
      "<class 'pandas.core.frame.DataFrame'>\n",
      "RangeIndex: 40000 entries, 0 to 39999\n",
      "Data columns (total 32 columns):\n",
      " #   Column               Non-Null Count  Dtype\n",
      "---  ------               --------------  -----\n",
      " 0   age                  40000 non-null  int64\n",
      " 1   default              40000 non-null  int64\n",
      " 2   balance              40000 non-null  int64\n",
      " 3   housing              40000 non-null  int64\n",
      " 4   loan                 40000 non-null  int64\n",
      " 5   day                  40000 non-null  int64\n",
      " 6   month                40000 non-null  int64\n",
      " 7   duration             40000 non-null  int64\n",
      " 8   campaign             40000 non-null  int64\n",
      " 9   y                    40000 non-null  int64\n",
      " 10  marital_divorced     40000 non-null  uint8\n",
      " 11  marital_married      40000 non-null  uint8\n",
      " 12  marital_single       40000 non-null  uint8\n",
      " 13  education_primary    40000 non-null  uint8\n",
      " 14  education_secondary  40000 non-null  uint8\n",
      " 15  education_tertiary   40000 non-null  uint8\n",
      " 16  education_unknown    40000 non-null  uint8\n",
      " 17  job_admin            40000 non-null  uint8\n",
      " 18  job_blue-collar      40000 non-null  uint8\n",
      " 19  job_entrepreneur     40000 non-null  uint8\n",
      " 20  job_housemaid        40000 non-null  uint8\n",
      " 21  job_management       40000 non-null  uint8\n",
      " 22  job_retired          40000 non-null  uint8\n",
      " 23  job_self-employed    40000 non-null  uint8\n",
      " 24  job_services         40000 non-null  uint8\n",
      " 25  job_student          40000 non-null  uint8\n",
      " 26  job_technician       40000 non-null  uint8\n",
      " 27  job_unemployed       40000 non-null  uint8\n",
      " 28  job_unknown          40000 non-null  uint8\n",
      " 29  contact_cellular     40000 non-null  uint8\n",
      " 30  contact_telephone    40000 non-null  uint8\n",
      " 31  contact_unknown      40000 non-null  uint8\n",
      "dtypes: int64(10), uint8(22)\n",
      "memory usage: 3.9 MB\n"
     ]
    }
   ],
   "source": [
    "df.info()"
   ]
  },
  {
   "cell_type": "markdown",
   "id": "0c97ac18",
   "metadata": {},
   "source": [
    "As the numbers in column 'day' and 'month' don't mean any order or prioirty that can affect to 'y', I will drop the columns."
   ]
  },
  {
   "cell_type": "code",
   "execution_count": 52,
   "id": "caf6568a",
   "metadata": {},
   "outputs": [],
   "source": [
    "df.drop(columns=['day', 'month'], inplace=True)"
   ]
  },
  {
   "cell_type": "markdown",
   "id": "b3b83d50",
   "metadata": {},
   "source": []
  },
  {
   "cell_type": "code",
   "execution_count": 53,
   "id": "51cdbbf0",
   "metadata": {},
   "outputs": [],
   "source": [
    "cols = df.iloc[:,0:-1].columns\n",
    "df_int = df.iloc[:,0:-1]"
   ]
  },
  {
   "cell_type": "code",
   "execution_count": 54,
   "id": "fb42062e",
   "metadata": {
    "scrolled": false
   },
   "outputs": [
    {
     "name": "stdout",
     "output_type": "stream",
     "text": [
      "<class 'pandas.core.frame.DataFrame'>\n",
      "RangeIndex: 40000 entries, 0 to 39999\n",
      "Data columns (total 29 columns):\n",
      " #   Column               Non-Null Count  Dtype\n",
      "---  ------               --------------  -----\n",
      " 0   age                  40000 non-null  int64\n",
      " 1   default              40000 non-null  int64\n",
      " 2   balance              40000 non-null  int64\n",
      " 3   housing              40000 non-null  int64\n",
      " 4   loan                 40000 non-null  int64\n",
      " 5   duration             40000 non-null  int64\n",
      " 6   campaign             40000 non-null  int64\n",
      " 7   y                    40000 non-null  int64\n",
      " 8   marital_divorced     40000 non-null  uint8\n",
      " 9   marital_married      40000 non-null  uint8\n",
      " 10  marital_single       40000 non-null  uint8\n",
      " 11  education_primary    40000 non-null  uint8\n",
      " 12  education_secondary  40000 non-null  uint8\n",
      " 13  education_tertiary   40000 non-null  uint8\n",
      " 14  education_unknown    40000 non-null  uint8\n",
      " 15  job_admin            40000 non-null  uint8\n",
      " 16  job_blue-collar      40000 non-null  uint8\n",
      " 17  job_entrepreneur     40000 non-null  uint8\n",
      " 18  job_housemaid        40000 non-null  uint8\n",
      " 19  job_management       40000 non-null  uint8\n",
      " 20  job_retired          40000 non-null  uint8\n",
      " 21  job_self-employed    40000 non-null  uint8\n",
      " 22  job_services         40000 non-null  uint8\n",
      " 23  job_student          40000 non-null  uint8\n",
      " 24  job_technician       40000 non-null  uint8\n",
      " 25  job_unemployed       40000 non-null  uint8\n",
      " 26  job_unknown          40000 non-null  uint8\n",
      " 27  contact_cellular     40000 non-null  uint8\n",
      " 28  contact_telephone    40000 non-null  uint8\n",
      "dtypes: int64(8), uint8(21)\n",
      "memory usage: 3.2 MB\n"
     ]
    }
   ],
   "source": [
    "df_int.info()"
   ]
  },
  {
   "cell_type": "code",
   "execution_count": 55,
   "id": "f7ee97f8",
   "metadata": {},
   "outputs": [
    {
     "data": {
      "text/html": [
       "<div>\n",
       "<style scoped>\n",
       "    .dataframe tbody tr th:only-of-type {\n",
       "        vertical-align: middle;\n",
       "    }\n",
       "\n",
       "    .dataframe tbody tr th {\n",
       "        vertical-align: top;\n",
       "    }\n",
       "\n",
       "    .dataframe thead th {\n",
       "        text-align: right;\n",
       "    }\n",
       "</style>\n",
       "<table border=\"1\" class=\"dataframe\">\n",
       "  <thead>\n",
       "    <tr style=\"text-align: right;\">\n",
       "      <th></th>\n",
       "      <th>age</th>\n",
       "      <th>default</th>\n",
       "      <th>balance</th>\n",
       "      <th>housing</th>\n",
       "      <th>loan</th>\n",
       "      <th>duration</th>\n",
       "      <th>campaign</th>\n",
       "      <th>y</th>\n",
       "      <th>marital_divorced</th>\n",
       "      <th>marital_married</th>\n",
       "      <th>...</th>\n",
       "      <th>job_management</th>\n",
       "      <th>job_retired</th>\n",
       "      <th>job_self-employed</th>\n",
       "      <th>job_services</th>\n",
       "      <th>job_student</th>\n",
       "      <th>job_technician</th>\n",
       "      <th>job_unemployed</th>\n",
       "      <th>job_unknown</th>\n",
       "      <th>contact_cellular</th>\n",
       "      <th>contact_telephone</th>\n",
       "    </tr>\n",
       "  </thead>\n",
       "  <tbody>\n",
       "    <tr>\n",
       "      <th>count</th>\n",
       "      <td>40000.000000</td>\n",
       "      <td>40000.000000</td>\n",
       "      <td>40000.000000</td>\n",
       "      <td>40000.000000</td>\n",
       "      <td>40000.000000</td>\n",
       "      <td>40000.000000</td>\n",
       "      <td>40000.000000</td>\n",
       "      <td>40000.000000</td>\n",
       "      <td>40000.000000</td>\n",
       "      <td>40000.000000</td>\n",
       "      <td>...</td>\n",
       "      <td>40000.000000</td>\n",
       "      <td>40000.000000</td>\n",
       "      <td>40000.000000</td>\n",
       "      <td>40000.00000</td>\n",
       "      <td>40000.000000</td>\n",
       "      <td>40000.000000</td>\n",
       "      <td>40000.000000</td>\n",
       "      <td>40000.000000</td>\n",
       "      <td>40000.000000</td>\n",
       "      <td>40000.000000</td>\n",
       "    </tr>\n",
       "    <tr>\n",
       "      <th>mean</th>\n",
       "      <td>40.544600</td>\n",
       "      <td>0.020225</td>\n",
       "      <td>1274.277550</td>\n",
       "      <td>0.600775</td>\n",
       "      <td>0.173250</td>\n",
       "      <td>254.824300</td>\n",
       "      <td>2.882175</td>\n",
       "      <td>0.072400</td>\n",
       "      <td>0.118125</td>\n",
       "      <td>0.609650</td>\n",
       "      <td>...</td>\n",
       "      <td>0.204150</td>\n",
       "      <td>0.035925</td>\n",
       "      <td>0.035350</td>\n",
       "      <td>0.09775</td>\n",
       "      <td>0.013100</td>\n",
       "      <td>0.171300</td>\n",
       "      <td>0.027600</td>\n",
       "      <td>0.005875</td>\n",
       "      <td>0.622850</td>\n",
       "      <td>0.058025</td>\n",
       "    </tr>\n",
       "    <tr>\n",
       "      <th>std</th>\n",
       "      <td>9.641776</td>\n",
       "      <td>0.140771</td>\n",
       "      <td>2903.769716</td>\n",
       "      <td>0.489745</td>\n",
       "      <td>0.378468</td>\n",
       "      <td>259.366498</td>\n",
       "      <td>3.239051</td>\n",
       "      <td>0.259152</td>\n",
       "      <td>0.322760</td>\n",
       "      <td>0.487835</td>\n",
       "      <td>...</td>\n",
       "      <td>0.403084</td>\n",
       "      <td>0.186106</td>\n",
       "      <td>0.184665</td>\n",
       "      <td>0.29698</td>\n",
       "      <td>0.113704</td>\n",
       "      <td>0.376776</td>\n",
       "      <td>0.163826</td>\n",
       "      <td>0.076424</td>\n",
       "      <td>0.484679</td>\n",
       "      <td>0.233794</td>\n",
       "    </tr>\n",
       "    <tr>\n",
       "      <th>min</th>\n",
       "      <td>19.000000</td>\n",
       "      <td>0.000000</td>\n",
       "      <td>-8019.000000</td>\n",
       "      <td>0.000000</td>\n",
       "      <td>0.000000</td>\n",
       "      <td>0.000000</td>\n",
       "      <td>1.000000</td>\n",
       "      <td>0.000000</td>\n",
       "      <td>0.000000</td>\n",
       "      <td>0.000000</td>\n",
       "      <td>...</td>\n",
       "      <td>0.000000</td>\n",
       "      <td>0.000000</td>\n",
       "      <td>0.000000</td>\n",
       "      <td>0.00000</td>\n",
       "      <td>0.000000</td>\n",
       "      <td>0.000000</td>\n",
       "      <td>0.000000</td>\n",
       "      <td>0.000000</td>\n",
       "      <td>0.000000</td>\n",
       "      <td>0.000000</td>\n",
       "    </tr>\n",
       "    <tr>\n",
       "      <th>25%</th>\n",
       "      <td>33.000000</td>\n",
       "      <td>0.000000</td>\n",
       "      <td>54.000000</td>\n",
       "      <td>0.000000</td>\n",
       "      <td>0.000000</td>\n",
       "      <td>100.000000</td>\n",
       "      <td>1.000000</td>\n",
       "      <td>0.000000</td>\n",
       "      <td>0.000000</td>\n",
       "      <td>0.000000</td>\n",
       "      <td>...</td>\n",
       "      <td>0.000000</td>\n",
       "      <td>0.000000</td>\n",
       "      <td>0.000000</td>\n",
       "      <td>0.00000</td>\n",
       "      <td>0.000000</td>\n",
       "      <td>0.000000</td>\n",
       "      <td>0.000000</td>\n",
       "      <td>0.000000</td>\n",
       "      <td>0.000000</td>\n",
       "      <td>0.000000</td>\n",
       "    </tr>\n",
       "    <tr>\n",
       "      <th>50%</th>\n",
       "      <td>39.000000</td>\n",
       "      <td>0.000000</td>\n",
       "      <td>407.000000</td>\n",
       "      <td>1.000000</td>\n",
       "      <td>0.000000</td>\n",
       "      <td>175.000000</td>\n",
       "      <td>2.000000</td>\n",
       "      <td>0.000000</td>\n",
       "      <td>0.000000</td>\n",
       "      <td>1.000000</td>\n",
       "      <td>...</td>\n",
       "      <td>0.000000</td>\n",
       "      <td>0.000000</td>\n",
       "      <td>0.000000</td>\n",
       "      <td>0.00000</td>\n",
       "      <td>0.000000</td>\n",
       "      <td>0.000000</td>\n",
       "      <td>0.000000</td>\n",
       "      <td>0.000000</td>\n",
       "      <td>1.000000</td>\n",
       "      <td>0.000000</td>\n",
       "    </tr>\n",
       "    <tr>\n",
       "      <th>75%</th>\n",
       "      <td>48.000000</td>\n",
       "      <td>0.000000</td>\n",
       "      <td>1319.000000</td>\n",
       "      <td>1.000000</td>\n",
       "      <td>0.000000</td>\n",
       "      <td>313.000000</td>\n",
       "      <td>3.000000</td>\n",
       "      <td>0.000000</td>\n",
       "      <td>0.000000</td>\n",
       "      <td>1.000000</td>\n",
       "      <td>...</td>\n",
       "      <td>0.000000</td>\n",
       "      <td>0.000000</td>\n",
       "      <td>0.000000</td>\n",
       "      <td>0.00000</td>\n",
       "      <td>0.000000</td>\n",
       "      <td>0.000000</td>\n",
       "      <td>0.000000</td>\n",
       "      <td>0.000000</td>\n",
       "      <td>1.000000</td>\n",
       "      <td>0.000000</td>\n",
       "    </tr>\n",
       "    <tr>\n",
       "      <th>max</th>\n",
       "      <td>95.000000</td>\n",
       "      <td>1.000000</td>\n",
       "      <td>102127.000000</td>\n",
       "      <td>1.000000</td>\n",
       "      <td>1.000000</td>\n",
       "      <td>4918.000000</td>\n",
       "      <td>63.000000</td>\n",
       "      <td>1.000000</td>\n",
       "      <td>1.000000</td>\n",
       "      <td>1.000000</td>\n",
       "      <td>...</td>\n",
       "      <td>1.000000</td>\n",
       "      <td>1.000000</td>\n",
       "      <td>1.000000</td>\n",
       "      <td>1.00000</td>\n",
       "      <td>1.000000</td>\n",
       "      <td>1.000000</td>\n",
       "      <td>1.000000</td>\n",
       "      <td>1.000000</td>\n",
       "      <td>1.000000</td>\n",
       "      <td>1.000000</td>\n",
       "    </tr>\n",
       "  </tbody>\n",
       "</table>\n",
       "<p>8 rows × 29 columns</p>\n",
       "</div>"
      ],
      "text/plain": [
       "                age       default        balance       housing          loan  \\\n",
       "count  40000.000000  40000.000000   40000.000000  40000.000000  40000.000000   \n",
       "mean      40.544600      0.020225    1274.277550      0.600775      0.173250   \n",
       "std        9.641776      0.140771    2903.769716      0.489745      0.378468   \n",
       "min       19.000000      0.000000   -8019.000000      0.000000      0.000000   \n",
       "25%       33.000000      0.000000      54.000000      0.000000      0.000000   \n",
       "50%       39.000000      0.000000     407.000000      1.000000      0.000000   \n",
       "75%       48.000000      0.000000    1319.000000      1.000000      0.000000   \n",
       "max       95.000000      1.000000  102127.000000      1.000000      1.000000   \n",
       "\n",
       "           duration      campaign             y  marital_divorced  \\\n",
       "count  40000.000000  40000.000000  40000.000000      40000.000000   \n",
       "mean     254.824300      2.882175      0.072400          0.118125   \n",
       "std      259.366498      3.239051      0.259152          0.322760   \n",
       "min        0.000000      1.000000      0.000000          0.000000   \n",
       "25%      100.000000      1.000000      0.000000          0.000000   \n",
       "50%      175.000000      2.000000      0.000000          0.000000   \n",
       "75%      313.000000      3.000000      0.000000          0.000000   \n",
       "max     4918.000000     63.000000      1.000000          1.000000   \n",
       "\n",
       "       marital_married  ...  job_management   job_retired  job_self-employed  \\\n",
       "count     40000.000000  ...    40000.000000  40000.000000       40000.000000   \n",
       "mean          0.609650  ...        0.204150      0.035925           0.035350   \n",
       "std           0.487835  ...        0.403084      0.186106           0.184665   \n",
       "min           0.000000  ...        0.000000      0.000000           0.000000   \n",
       "25%           0.000000  ...        0.000000      0.000000           0.000000   \n",
       "50%           1.000000  ...        0.000000      0.000000           0.000000   \n",
       "75%           1.000000  ...        0.000000      0.000000           0.000000   \n",
       "max           1.000000  ...        1.000000      1.000000           1.000000   \n",
       "\n",
       "       job_services   job_student  job_technician  job_unemployed  \\\n",
       "count   40000.00000  40000.000000    40000.000000    40000.000000   \n",
       "mean        0.09775      0.013100        0.171300        0.027600   \n",
       "std         0.29698      0.113704        0.376776        0.163826   \n",
       "min         0.00000      0.000000        0.000000        0.000000   \n",
       "25%         0.00000      0.000000        0.000000        0.000000   \n",
       "50%         0.00000      0.000000        0.000000        0.000000   \n",
       "75%         0.00000      0.000000        0.000000        0.000000   \n",
       "max         1.00000      1.000000        1.000000        1.000000   \n",
       "\n",
       "        job_unknown  contact_cellular  contact_telephone  \n",
       "count  40000.000000      40000.000000       40000.000000  \n",
       "mean       0.005875          0.622850           0.058025  \n",
       "std        0.076424          0.484679           0.233794  \n",
       "min        0.000000          0.000000           0.000000  \n",
       "25%        0.000000          0.000000           0.000000  \n",
       "50%        0.000000          1.000000           0.000000  \n",
       "75%        0.000000          1.000000           0.000000  \n",
       "max        1.000000          1.000000           1.000000  \n",
       "\n",
       "[8 rows x 29 columns]"
      ]
     },
     "execution_count": 55,
     "metadata": {},
     "output_type": "execute_result"
    }
   ],
   "source": [
    "df_int.describe()"
   ]
  },
  {
   "cell_type": "markdown",
   "id": "b04866fd",
   "metadata": {},
   "source": [
    "As the values have various ranges per column, I'm going to use Robust Scaler for preprocessing the dataset as some columns look like having some outliers, such as 'balance' and 'duration'."
   ]
  },
  {
   "cell_type": "code",
   "execution_count": 56,
   "id": "32e7906d",
   "metadata": {},
   "outputs": [],
   "source": [
    "from sklearn.preprocessing import RobustScaler"
   ]
  },
  {
   "cell_type": "code",
   "execution_count": 57,
   "id": "78403f70",
   "metadata": {},
   "outputs": [],
   "source": [
    "robust_scale = RobustScaler()\n",
    "df_robust = robust_scale.fit_transform(df_int)"
   ]
  },
  {
   "cell_type": "code",
   "execution_count": 58,
   "id": "7884aa22",
   "metadata": {},
   "outputs": [],
   "source": [
    "df_robust = pd.DataFrame(df_robust, columns = cols)"
   ]
  },
  {
   "cell_type": "code",
   "execution_count": 59,
   "id": "88a78d5d",
   "metadata": {
    "scrolled": true
   },
   "outputs": [
    {
     "data": {
      "text/html": [
       "<div>\n",
       "<style scoped>\n",
       "    .dataframe tbody tr th:only-of-type {\n",
       "        vertical-align: middle;\n",
       "    }\n",
       "\n",
       "    .dataframe tbody tr th {\n",
       "        vertical-align: top;\n",
       "    }\n",
       "\n",
       "    .dataframe thead th {\n",
       "        text-align: right;\n",
       "    }\n",
       "</style>\n",
       "<table border=\"1\" class=\"dataframe\">\n",
       "  <thead>\n",
       "    <tr style=\"text-align: right;\">\n",
       "      <th></th>\n",
       "      <th>age</th>\n",
       "      <th>default</th>\n",
       "      <th>balance</th>\n",
       "      <th>housing</th>\n",
       "      <th>loan</th>\n",
       "      <th>duration</th>\n",
       "      <th>campaign</th>\n",
       "      <th>y</th>\n",
       "      <th>marital_divorced</th>\n",
       "      <th>marital_married</th>\n",
       "      <th>...</th>\n",
       "      <th>job_management</th>\n",
       "      <th>job_retired</th>\n",
       "      <th>job_self-employed</th>\n",
       "      <th>job_services</th>\n",
       "      <th>job_student</th>\n",
       "      <th>job_technician</th>\n",
       "      <th>job_unemployed</th>\n",
       "      <th>job_unknown</th>\n",
       "      <th>contact_cellular</th>\n",
       "      <th>contact_telephone</th>\n",
       "    </tr>\n",
       "  </thead>\n",
       "  <tbody>\n",
       "    <tr>\n",
       "      <th>0</th>\n",
       "      <td>1.266667</td>\n",
       "      <td>0.0</td>\n",
       "      <td>1.372332</td>\n",
       "      <td>0.0</td>\n",
       "      <td>0.0</td>\n",
       "      <td>0.403756</td>\n",
       "      <td>-0.5</td>\n",
       "      <td>0.0</td>\n",
       "      <td>0.0</td>\n",
       "      <td>0.0</td>\n",
       "      <td>...</td>\n",
       "      <td>1.0</td>\n",
       "      <td>0.0</td>\n",
       "      <td>0.0</td>\n",
       "      <td>0.0</td>\n",
       "      <td>0.0</td>\n",
       "      <td>0.0</td>\n",
       "      <td>0.0</td>\n",
       "      <td>0.0</td>\n",
       "      <td>-1.0</td>\n",
       "      <td>0.0</td>\n",
       "    </tr>\n",
       "    <tr>\n",
       "      <th>1</th>\n",
       "      <td>0.333333</td>\n",
       "      <td>0.0</td>\n",
       "      <td>-0.298814</td>\n",
       "      <td>0.0</td>\n",
       "      <td>0.0</td>\n",
       "      <td>-0.112676</td>\n",
       "      <td>-0.5</td>\n",
       "      <td>0.0</td>\n",
       "      <td>0.0</td>\n",
       "      <td>-1.0</td>\n",
       "      <td>...</td>\n",
       "      <td>0.0</td>\n",
       "      <td>0.0</td>\n",
       "      <td>0.0</td>\n",
       "      <td>0.0</td>\n",
       "      <td>0.0</td>\n",
       "      <td>1.0</td>\n",
       "      <td>0.0</td>\n",
       "      <td>0.0</td>\n",
       "      <td>-1.0</td>\n",
       "      <td>0.0</td>\n",
       "    </tr>\n",
       "    <tr>\n",
       "      <th>2</th>\n",
       "      <td>-0.400000</td>\n",
       "      <td>0.0</td>\n",
       "      <td>-0.320158</td>\n",
       "      <td>0.0</td>\n",
       "      <td>1.0</td>\n",
       "      <td>-0.464789</td>\n",
       "      <td>-0.5</td>\n",
       "      <td>0.0</td>\n",
       "      <td>0.0</td>\n",
       "      <td>0.0</td>\n",
       "      <td>...</td>\n",
       "      <td>0.0</td>\n",
       "      <td>0.0</td>\n",
       "      <td>0.0</td>\n",
       "      <td>0.0</td>\n",
       "      <td>0.0</td>\n",
       "      <td>0.0</td>\n",
       "      <td>0.0</td>\n",
       "      <td>0.0</td>\n",
       "      <td>-1.0</td>\n",
       "      <td>0.0</td>\n",
       "    </tr>\n",
       "    <tr>\n",
       "      <th>3</th>\n",
       "      <td>0.533333</td>\n",
       "      <td>0.0</td>\n",
       "      <td>0.868775</td>\n",
       "      <td>0.0</td>\n",
       "      <td>0.0</td>\n",
       "      <td>-0.389671</td>\n",
       "      <td>-0.5</td>\n",
       "      <td>0.0</td>\n",
       "      <td>0.0</td>\n",
       "      <td>0.0</td>\n",
       "      <td>...</td>\n",
       "      <td>0.0</td>\n",
       "      <td>0.0</td>\n",
       "      <td>0.0</td>\n",
       "      <td>0.0</td>\n",
       "      <td>0.0</td>\n",
       "      <td>0.0</td>\n",
       "      <td>0.0</td>\n",
       "      <td>0.0</td>\n",
       "      <td>-1.0</td>\n",
       "      <td>0.0</td>\n",
       "    </tr>\n",
       "    <tr>\n",
       "      <th>4</th>\n",
       "      <td>-0.400000</td>\n",
       "      <td>0.0</td>\n",
       "      <td>-0.320949</td>\n",
       "      <td>-1.0</td>\n",
       "      <td>0.0</td>\n",
       "      <td>0.107981</td>\n",
       "      <td>-0.5</td>\n",
       "      <td>0.0</td>\n",
       "      <td>0.0</td>\n",
       "      <td>-1.0</td>\n",
       "      <td>...</td>\n",
       "      <td>0.0</td>\n",
       "      <td>0.0</td>\n",
       "      <td>0.0</td>\n",
       "      <td>0.0</td>\n",
       "      <td>0.0</td>\n",
       "      <td>0.0</td>\n",
       "      <td>0.0</td>\n",
       "      <td>1.0</td>\n",
       "      <td>-1.0</td>\n",
       "      <td>0.0</td>\n",
       "    </tr>\n",
       "  </tbody>\n",
       "</table>\n",
       "<p>5 rows × 29 columns</p>\n",
       "</div>"
      ],
      "text/plain": [
       "        age  default   balance  housing  loan  duration  campaign    y  \\\n",
       "0  1.266667      0.0  1.372332      0.0   0.0  0.403756      -0.5  0.0   \n",
       "1  0.333333      0.0 -0.298814      0.0   0.0 -0.112676      -0.5  0.0   \n",
       "2 -0.400000      0.0 -0.320158      0.0   1.0 -0.464789      -0.5  0.0   \n",
       "3  0.533333      0.0  0.868775      0.0   0.0 -0.389671      -0.5  0.0   \n",
       "4 -0.400000      0.0 -0.320949     -1.0   0.0  0.107981      -0.5  0.0   \n",
       "\n",
       "   marital_divorced  marital_married  ...  job_management  job_retired  \\\n",
       "0               0.0              0.0  ...             1.0          0.0   \n",
       "1               0.0             -1.0  ...             0.0          0.0   \n",
       "2               0.0              0.0  ...             0.0          0.0   \n",
       "3               0.0              0.0  ...             0.0          0.0   \n",
       "4               0.0             -1.0  ...             0.0          0.0   \n",
       "\n",
       "   job_self-employed  job_services  job_student  job_technician  \\\n",
       "0                0.0           0.0          0.0             0.0   \n",
       "1                0.0           0.0          0.0             1.0   \n",
       "2                0.0           0.0          0.0             0.0   \n",
       "3                0.0           0.0          0.0             0.0   \n",
       "4                0.0           0.0          0.0             0.0   \n",
       "\n",
       "   job_unemployed  job_unknown  contact_cellular  contact_telephone  \n",
       "0             0.0          0.0              -1.0                0.0  \n",
       "1             0.0          0.0              -1.0                0.0  \n",
       "2             0.0          0.0              -1.0                0.0  \n",
       "3             0.0          0.0              -1.0                0.0  \n",
       "4             0.0          1.0              -1.0                0.0  \n",
       "\n",
       "[5 rows x 29 columns]"
      ]
     },
     "execution_count": 59,
     "metadata": {},
     "output_type": "execute_result"
    }
   ],
   "source": [
    "df_robust.head()"
   ]
  },
  {
   "cell_type": "code",
   "execution_count": 60,
   "id": "fd866b45",
   "metadata": {},
   "outputs": [
    {
     "data": {
      "text/html": [
       "<div>\n",
       "<style scoped>\n",
       "    .dataframe tbody tr th:only-of-type {\n",
       "        vertical-align: middle;\n",
       "    }\n",
       "\n",
       "    .dataframe tbody tr th {\n",
       "        vertical-align: top;\n",
       "    }\n",
       "\n",
       "    .dataframe thead th {\n",
       "        text-align: right;\n",
       "    }\n",
       "</style>\n",
       "<table border=\"1\" class=\"dataframe\">\n",
       "  <thead>\n",
       "    <tr style=\"text-align: right;\">\n",
       "      <th></th>\n",
       "      <th>age</th>\n",
       "      <th>default</th>\n",
       "      <th>balance</th>\n",
       "      <th>housing</th>\n",
       "      <th>loan</th>\n",
       "      <th>duration</th>\n",
       "      <th>campaign</th>\n",
       "      <th>y</th>\n",
       "      <th>marital_divorced</th>\n",
       "      <th>marital_married</th>\n",
       "      <th>...</th>\n",
       "      <th>job_management</th>\n",
       "      <th>job_retired</th>\n",
       "      <th>job_self-employed</th>\n",
       "      <th>job_services</th>\n",
       "      <th>job_student</th>\n",
       "      <th>job_technician</th>\n",
       "      <th>job_unemployed</th>\n",
       "      <th>job_unknown</th>\n",
       "      <th>contact_cellular</th>\n",
       "      <th>contact_telephone</th>\n",
       "    </tr>\n",
       "  </thead>\n",
       "  <tbody>\n",
       "    <tr>\n",
       "      <th>count</th>\n",
       "      <td>40000.000000</td>\n",
       "      <td>40000.000000</td>\n",
       "      <td>40000.000000</td>\n",
       "      <td>40000.000000</td>\n",
       "      <td>40000.000000</td>\n",
       "      <td>40000.000000</td>\n",
       "      <td>40000.000000</td>\n",
       "      <td>40000.000000</td>\n",
       "      <td>40000.000000</td>\n",
       "      <td>40000.000000</td>\n",
       "      <td>...</td>\n",
       "      <td>40000.000000</td>\n",
       "      <td>40000.000000</td>\n",
       "      <td>40000.000000</td>\n",
       "      <td>40000.00000</td>\n",
       "      <td>40000.000000</td>\n",
       "      <td>40000.000000</td>\n",
       "      <td>40000.000000</td>\n",
       "      <td>40000.000000</td>\n",
       "      <td>40000.000000</td>\n",
       "      <td>40000.000000</td>\n",
       "    </tr>\n",
       "    <tr>\n",
       "      <th>mean</th>\n",
       "      <td>0.102973</td>\n",
       "      <td>0.020225</td>\n",
       "      <td>0.685595</td>\n",
       "      <td>-0.399225</td>\n",
       "      <td>0.173250</td>\n",
       "      <td>0.374762</td>\n",
       "      <td>0.441088</td>\n",
       "      <td>0.072400</td>\n",
       "      <td>0.118125</td>\n",
       "      <td>-0.390350</td>\n",
       "      <td>...</td>\n",
       "      <td>0.204150</td>\n",
       "      <td>0.035925</td>\n",
       "      <td>0.035350</td>\n",
       "      <td>0.09775</td>\n",
       "      <td>0.013100</td>\n",
       "      <td>0.171300</td>\n",
       "      <td>0.027600</td>\n",
       "      <td>0.005875</td>\n",
       "      <td>-0.377150</td>\n",
       "      <td>0.058025</td>\n",
       "    </tr>\n",
       "    <tr>\n",
       "      <th>std</th>\n",
       "      <td>0.642785</td>\n",
       "      <td>0.140771</td>\n",
       "      <td>2.295470</td>\n",
       "      <td>0.489745</td>\n",
       "      <td>0.378468</td>\n",
       "      <td>1.217683</td>\n",
       "      <td>1.619526</td>\n",
       "      <td>0.259152</td>\n",
       "      <td>0.322760</td>\n",
       "      <td>0.487835</td>\n",
       "      <td>...</td>\n",
       "      <td>0.403084</td>\n",
       "      <td>0.186106</td>\n",
       "      <td>0.184665</td>\n",
       "      <td>0.29698</td>\n",
       "      <td>0.113704</td>\n",
       "      <td>0.376776</td>\n",
       "      <td>0.163826</td>\n",
       "      <td>0.076424</td>\n",
       "      <td>0.484679</td>\n",
       "      <td>0.233794</td>\n",
       "    </tr>\n",
       "    <tr>\n",
       "      <th>min</th>\n",
       "      <td>-1.333333</td>\n",
       "      <td>0.000000</td>\n",
       "      <td>-6.660870</td>\n",
       "      <td>-1.000000</td>\n",
       "      <td>0.000000</td>\n",
       "      <td>-0.821596</td>\n",
       "      <td>-0.500000</td>\n",
       "      <td>0.000000</td>\n",
       "      <td>0.000000</td>\n",
       "      <td>-1.000000</td>\n",
       "      <td>...</td>\n",
       "      <td>0.000000</td>\n",
       "      <td>0.000000</td>\n",
       "      <td>0.000000</td>\n",
       "      <td>0.00000</td>\n",
       "      <td>0.000000</td>\n",
       "      <td>0.000000</td>\n",
       "      <td>0.000000</td>\n",
       "      <td>0.000000</td>\n",
       "      <td>-1.000000</td>\n",
       "      <td>0.000000</td>\n",
       "    </tr>\n",
       "    <tr>\n",
       "      <th>25%</th>\n",
       "      <td>-0.400000</td>\n",
       "      <td>0.000000</td>\n",
       "      <td>-0.279051</td>\n",
       "      <td>-1.000000</td>\n",
       "      <td>0.000000</td>\n",
       "      <td>-0.352113</td>\n",
       "      <td>-0.500000</td>\n",
       "      <td>0.000000</td>\n",
       "      <td>0.000000</td>\n",
       "      <td>-1.000000</td>\n",
       "      <td>...</td>\n",
       "      <td>0.000000</td>\n",
       "      <td>0.000000</td>\n",
       "      <td>0.000000</td>\n",
       "      <td>0.00000</td>\n",
       "      <td>0.000000</td>\n",
       "      <td>0.000000</td>\n",
       "      <td>0.000000</td>\n",
       "      <td>0.000000</td>\n",
       "      <td>-1.000000</td>\n",
       "      <td>0.000000</td>\n",
       "    </tr>\n",
       "    <tr>\n",
       "      <th>50%</th>\n",
       "      <td>0.000000</td>\n",
       "      <td>0.000000</td>\n",
       "      <td>0.000000</td>\n",
       "      <td>0.000000</td>\n",
       "      <td>0.000000</td>\n",
       "      <td>0.000000</td>\n",
       "      <td>0.000000</td>\n",
       "      <td>0.000000</td>\n",
       "      <td>0.000000</td>\n",
       "      <td>0.000000</td>\n",
       "      <td>...</td>\n",
       "      <td>0.000000</td>\n",
       "      <td>0.000000</td>\n",
       "      <td>0.000000</td>\n",
       "      <td>0.00000</td>\n",
       "      <td>0.000000</td>\n",
       "      <td>0.000000</td>\n",
       "      <td>0.000000</td>\n",
       "      <td>0.000000</td>\n",
       "      <td>0.000000</td>\n",
       "      <td>0.000000</td>\n",
       "    </tr>\n",
       "    <tr>\n",
       "      <th>75%</th>\n",
       "      <td>0.600000</td>\n",
       "      <td>0.000000</td>\n",
       "      <td>0.720949</td>\n",
       "      <td>0.000000</td>\n",
       "      <td>0.000000</td>\n",
       "      <td>0.647887</td>\n",
       "      <td>0.500000</td>\n",
       "      <td>0.000000</td>\n",
       "      <td>0.000000</td>\n",
       "      <td>0.000000</td>\n",
       "      <td>...</td>\n",
       "      <td>0.000000</td>\n",
       "      <td>0.000000</td>\n",
       "      <td>0.000000</td>\n",
       "      <td>0.00000</td>\n",
       "      <td>0.000000</td>\n",
       "      <td>0.000000</td>\n",
       "      <td>0.000000</td>\n",
       "      <td>0.000000</td>\n",
       "      <td>0.000000</td>\n",
       "      <td>0.000000</td>\n",
       "    </tr>\n",
       "    <tr>\n",
       "      <th>max</th>\n",
       "      <td>3.733333</td>\n",
       "      <td>1.000000</td>\n",
       "      <td>80.411067</td>\n",
       "      <td>0.000000</td>\n",
       "      <td>1.000000</td>\n",
       "      <td>22.267606</td>\n",
       "      <td>30.500000</td>\n",
       "      <td>1.000000</td>\n",
       "      <td>1.000000</td>\n",
       "      <td>0.000000</td>\n",
       "      <td>...</td>\n",
       "      <td>1.000000</td>\n",
       "      <td>1.000000</td>\n",
       "      <td>1.000000</td>\n",
       "      <td>1.00000</td>\n",
       "      <td>1.000000</td>\n",
       "      <td>1.000000</td>\n",
       "      <td>1.000000</td>\n",
       "      <td>1.000000</td>\n",
       "      <td>0.000000</td>\n",
       "      <td>1.000000</td>\n",
       "    </tr>\n",
       "  </tbody>\n",
       "</table>\n",
       "<p>8 rows × 29 columns</p>\n",
       "</div>"
      ],
      "text/plain": [
       "                age       default       balance       housing          loan  \\\n",
       "count  40000.000000  40000.000000  40000.000000  40000.000000  40000.000000   \n",
       "mean       0.102973      0.020225      0.685595     -0.399225      0.173250   \n",
       "std        0.642785      0.140771      2.295470      0.489745      0.378468   \n",
       "min       -1.333333      0.000000     -6.660870     -1.000000      0.000000   \n",
       "25%       -0.400000      0.000000     -0.279051     -1.000000      0.000000   \n",
       "50%        0.000000      0.000000      0.000000      0.000000      0.000000   \n",
       "75%        0.600000      0.000000      0.720949      0.000000      0.000000   \n",
       "max        3.733333      1.000000     80.411067      0.000000      1.000000   \n",
       "\n",
       "           duration      campaign             y  marital_divorced  \\\n",
       "count  40000.000000  40000.000000  40000.000000      40000.000000   \n",
       "mean       0.374762      0.441088      0.072400          0.118125   \n",
       "std        1.217683      1.619526      0.259152          0.322760   \n",
       "min       -0.821596     -0.500000      0.000000          0.000000   \n",
       "25%       -0.352113     -0.500000      0.000000          0.000000   \n",
       "50%        0.000000      0.000000      0.000000          0.000000   \n",
       "75%        0.647887      0.500000      0.000000          0.000000   \n",
       "max       22.267606     30.500000      1.000000          1.000000   \n",
       "\n",
       "       marital_married  ...  job_management   job_retired  job_self-employed  \\\n",
       "count     40000.000000  ...    40000.000000  40000.000000       40000.000000   \n",
       "mean         -0.390350  ...        0.204150      0.035925           0.035350   \n",
       "std           0.487835  ...        0.403084      0.186106           0.184665   \n",
       "min          -1.000000  ...        0.000000      0.000000           0.000000   \n",
       "25%          -1.000000  ...        0.000000      0.000000           0.000000   \n",
       "50%           0.000000  ...        0.000000      0.000000           0.000000   \n",
       "75%           0.000000  ...        0.000000      0.000000           0.000000   \n",
       "max           0.000000  ...        1.000000      1.000000           1.000000   \n",
       "\n",
       "       job_services   job_student  job_technician  job_unemployed  \\\n",
       "count   40000.00000  40000.000000    40000.000000    40000.000000   \n",
       "mean        0.09775      0.013100        0.171300        0.027600   \n",
       "std         0.29698      0.113704        0.376776        0.163826   \n",
       "min         0.00000      0.000000        0.000000        0.000000   \n",
       "25%         0.00000      0.000000        0.000000        0.000000   \n",
       "50%         0.00000      0.000000        0.000000        0.000000   \n",
       "75%         0.00000      0.000000        0.000000        0.000000   \n",
       "max         1.00000      1.000000        1.000000        1.000000   \n",
       "\n",
       "        job_unknown  contact_cellular  contact_telephone  \n",
       "count  40000.000000      40000.000000       40000.000000  \n",
       "mean       0.005875         -0.377150           0.058025  \n",
       "std        0.076424          0.484679           0.233794  \n",
       "min        0.000000         -1.000000           0.000000  \n",
       "25%        0.000000         -1.000000           0.000000  \n",
       "50%        0.000000          0.000000           0.000000  \n",
       "75%        0.000000          0.000000           0.000000  \n",
       "max        1.000000          0.000000           1.000000  \n",
       "\n",
       "[8 rows x 29 columns]"
      ]
     },
     "execution_count": 60,
     "metadata": {},
     "output_type": "execute_result"
    }
   ],
   "source": [
    "df_robust.describe()"
   ]
  },
  {
   "cell_type": "code",
   "execution_count": 61,
   "id": "254fdd24",
   "metadata": {},
   "outputs": [],
   "source": [
    "# Create correlation matrix with standard scaler\n",
    "corr = df_robust.corr()"
   ]
  },
  {
   "cell_type": "code",
   "execution_count": 62,
   "id": "28e85059",
   "metadata": {},
   "outputs": [],
   "source": [
    "#corr = df_int.corr()"
   ]
  },
  {
   "cell_type": "code",
   "execution_count": 63,
   "id": "a772040d",
   "metadata": {},
   "outputs": [
    {
     "data": {
      "text/plain": [
       "y                      1.000000\n",
       "duration               0.461169\n",
       "contact_cellular       0.085433\n",
       "marital_single         0.051721\n",
       "education_tertiary     0.046763\n",
       "job_student            0.037384\n",
       "balance                0.030232\n",
       "job_retired            0.024343\n",
       "job_management         0.020291\n",
       "marital_divorced       0.014619\n",
       "job_unemployed         0.009463\n",
       "job_admin              0.008083\n",
       "job_self-employed      0.005029\n",
       "job_technician         0.000234\n",
       "job_unknown           -0.000018\n",
       "contact_telephone     -0.000842\n",
       "default               -0.006559\n",
       "job_entrepreneur      -0.007191\n",
       "education_unknown     -0.007464\n",
       "job_services          -0.014645\n",
       "job_housemaid         -0.015248\n",
       "education_secondary   -0.019683\n",
       "age                   -0.020273\n",
       "education_primary     -0.026786\n",
       "loan                  -0.031029\n",
       "job_blue-collar       -0.032859\n",
       "campaign              -0.040350\n",
       "housing               -0.054336\n",
       "marital_married       -0.056863\n",
       "Name: y, dtype: float64"
      ]
     },
     "execution_count": 63,
     "metadata": {},
     "output_type": "execute_result"
    }
   ],
   "source": [
    "corr['y'].sort_values(ascending=False)"
   ]
  },
  {
   "cell_type": "code",
   "execution_count": 64,
   "id": "cc7eb4f5",
   "metadata": {},
   "outputs": [
    {
     "data": {
      "image/png": "[encoded data removed]",
      "text/plain": [
       "<Figure size 2160x1728 with 2 Axes>"
      ]
     },
     "metadata": {
      "needs_background": "light"
     },
     "output_type": "display_data"
    }
   ],
   "source": [
    "# Draw a Heatmap with Seaborn\n",
    "plt.figure(figsize = (30, 24))\n",
    "sns.heatmap(corr, annot = True)\n",
    "plt.show()"
   ]
  },
  {
   "cell_type": "markdown",
   "id": "0aba6002",
   "metadata": {},
   "source": [
    "As we can see, \"duration\" (last contact duration, in seconds) is quite correlated with \"y\" as the correlation coefficient is 0.46.\n",
    "<br>However, all other columns are barely correlated with \"y\" as their absolute value of correlation coefficient is lower than 0.2.</br>"
   ]
  },
  {
   "cell_type": "code",
   "execution_count": 65,
   "id": "3dc1298c",
   "metadata": {},
   "outputs": [],
   "source": [
    "# Create a feature\n",
    "#feature = [\"duration\", \"balance\", \"marital_divorced\", \"marital_single\", \"education_tertiary\"]\n",
    "feature = [\"duration\"]\n",
    "X = np.array(df[feature])\n",
    "y = np.array(df[\"y\"])"
   ]
  },
  {
   "cell_type": "code",
   "execution_count": 66,
   "id": "bae7179a",
   "metadata": {},
   "outputs": [
    {
     "name": "stdout",
     "output_type": "stream",
     "text": [
      "(40000, 1) (40000,)\n"
     ]
    }
   ],
   "source": [
    "print(X.shape, y.shape)"
   ]
  },
  {
   "cell_type": "code",
   "execution_count": 68,
   "id": "e2501462",
   "metadata": {
    "scrolled": true
   },
   "outputs": [
    {
     "name": "stdout",
     "output_type": "stream",
     "text": [
      "[0 0 0 ... 1 0 0]\n"
     ]
    }
   ],
   "source": [
    "print(y)"
   ]
  },
  {
   "cell_type": "markdown",
   "id": "07991b42",
   "metadata": {},
   "source": [
    "# Split train and test"
   ]
  },
  {
   "cell_type": "code",
   "execution_count": 69,
   "id": "c19576c4",
   "metadata": {},
   "outputs": [],
   "source": [
    "from sklearn.model_selection import train_test_split\n",
    "X_train, X_test, y_train, y_test = train_test_split(X, y, test_size=0.2, shuffle=True, random_state=34)"
   ]
  },
  {
   "cell_type": "markdown",
   "id": "56721f69",
   "metadata": {},
   "source": [
    "# Modeling"
   ]
  },
  {
   "cell_type": "code",
   "execution_count": 70,
   "id": "a02d1e5f",
   "metadata": {},
   "outputs": [],
   "source": [
    "# Loadling libraries for K-Fold Cross Validation\n",
    "from sklearn.metrics import accuracy_score\n",
    "from sklearn.metrics import mean_squared_error\n",
    "from sklearn.model_selection import cross_val_score, cross_val_predict, cross_validate\n",
    "from sklearn.model_selection import KFold"
   ]
  },
  {
   "cell_type": "markdown",
   "id": "70cf240c",
   "metadata": {},
   "source": [
    "### 1. Decision Tree"
   ]
  },
  {
   "cell_type": "code",
   "execution_count": 71,
   "id": "f3c36ced",
   "metadata": {},
   "outputs": [],
   "source": [
    "# Create decision tree model\n",
    "from sklearn.tree import DecisionTreeClassifier\n",
    "dt = DecisionTreeClassifier()"
   ]
  },
  {
   "cell_type": "markdown",
   "id": "e399b179",
   "metadata": {},
   "source": [
    "### 2. Logistic Regression"
   ]
  },
  {
   "cell_type": "code",
   "execution_count": 72,
   "id": "ace65b49",
   "metadata": {},
   "outputs": [],
   "source": [
    "# Create logistic regression model\n",
    "from sklearn.linear_model import LogisticRegression\n",
    "lr = LogisticRegression()"
   ]
  },
  {
   "cell_type": "markdown",
   "id": "c0c501bc",
   "metadata": {},
   "source": [
    "### 3. Random Forest"
   ]
  },
  {
   "cell_type": "code",
   "execution_count": 73,
   "id": "3653ffdb",
   "metadata": {},
   "outputs": [],
   "source": [
    "from sklearn.ensemble import RandomForestRegressor\n",
    "rf = RandomForestRegressor(n_estimators = 1000, random_state = 42)"
   ]
  },
  {
   "cell_type": "markdown",
   "id": "f2151e78",
   "metadata": {},
   "source": [
    "### 4. K-Nearest Neighbors"
   ]
  },
  {
   "cell_type": "code",
   "execution_count": 74,
   "id": "c1906f16",
   "metadata": {},
   "outputs": [],
   "source": [
    "# Create K-Nearest Neighbors model\n",
    "from sklearn.neighbors import KNeighborsClassifier\n",
    "knn1 = KNeighborsClassifier(n_neighbors = 1)\n",
    "knn3 = KNeighborsClassifier(n_neighbors = 3)\n",
    "knn5 = KNeighborsClassifier(n_neighbors = 5)"
   ]
  },
  {
   "cell_type": "markdown",
   "id": "bd382127",
   "metadata": {},
   "source": [
    "### 5. Naive Bayes"
   ]
  },
  {
   "cell_type": "code",
   "execution_count": 75,
   "id": "48cdb9c5",
   "metadata": {},
   "outputs": [],
   "source": [
    "# Create Naive Bayes model\n",
    "from sklearn.naive_bayes import GaussianNB\n",
    "gnb = GaussianNB()"
   ]
  },
  {
   "cell_type": "markdown",
   "id": "80cbc467",
   "metadata": {},
   "source": [
    "### 6. Support Vector Machines"
   ]
  },
  {
   "cell_type": "code",
   "execution_count": 76,
   "id": "660270c3",
   "metadata": {},
   "outputs": [],
   "source": [
    "# Create SVM model\n",
    "from sklearn.svm import SVC\n",
    "svc_rbf = SVC()\n",
    "svc_sigmoid = SVC(kernel='sigmoid')"
   ]
  },
  {
   "cell_type": "markdown",
   "id": "96c4029f",
   "metadata": {},
   "source": [
    "# Validation"
   ]
  },
  {
   "cell_type": "markdown",
   "id": "820cc575",
   "metadata": {},
   "source": [
    "### K-fold Cross Validation"
   ]
  },
  {
   "cell_type": "code",
   "execution_count": 77,
   "id": "b7da4260",
   "metadata": {},
   "outputs": [],
   "source": [
    "scoring = \"f1\"\n",
    "dt_score = cross_validate(dt, X_train, y_train, scoring=scoring, return_estimator=True)\n",
    "lr_score = cross_validate(lr, X_train, y_train, scoring=scoring, return_estimator=True)\n",
    "#rf_score = cross_validate(rf, X_train, y_train, scoring=scoring, return_estimator=True)\n",
    "knn1_score = cross_validate(knn1, X_train, y_train, scoring=scoring, return_estimator=True)\n",
    "knn3_score = cross_validate(knn3, X_train, y_train, scoring=scoring, return_estimator=True)\n",
    "knn5_score = cross_validate(knn5, X_train, y_train, scoring=scoring, return_estimator=True)\n",
    "gnb_score = cross_validate(gnb, X_train, y_train, scoring=scoring, return_estimator=True)\n",
    "svc_rbf_score = cross_validate(svc_rbf, X_train, y_train, scoring=scoring, return_estimator=True)\n",
    "svc_sigmoid_score = cross_validate(svc_sigmoid, X_train, y_train, scoring=scoring, return_estimator=True)\n"
   ]
  },
  {
   "cell_type": "code",
   "execution_count": 78,
   "id": "19625033",
   "metadata": {},
   "outputs": [
    {
     "name": "stdout",
     "output_type": "stream",
     "text": [
      "Decision Tree score: 0.2888970368701417\n",
      "Logistic Regression score: 0.3142283775737168\n",
      "K-Nearst Neighbors 1 score: 0.3218368807508905\n",
      "K-Nearst Neighbors 3 score: 0.33795741496622134\n",
      "K-Nearst Neighbors 5 score: 0.3437906987982843\n",
      "Naive Bayes score: 0.43348068574449605\n",
      "Support Vector Machines with rbf score: 0.3439790212129032\n",
      "Support Vector Machines with sigmoid score: 0.016747327937691164\n"
     ]
    }
   ],
   "source": [
    "# Print the mean score of each model\n",
    "print(\"Decision Tree score:\", dt_score[\"test_score\"].mean())\n",
    "print(\"Logistic Regression score:\", lr_score[\"test_score\"].mean())\n",
    "#print(\"Random Forest score:\", rf_score[\"test_score\"].mean())\n",
    "print(\"K-Nearst Neighbors 1 score:\", knn1_score[\"test_score\"].mean())\n",
    "print(\"K-Nearst Neighbors 3 score:\", knn3_score[\"test_score\"].mean())\n",
    "print(\"K-Nearst Neighbors 5 score:\", knn5_score[\"test_score\"].mean())\n",
    "print(\"Naive Bayes score:\", gnb_score[\"test_score\"].mean())\n",
    "print(\"Support Vector Machines with rbf score:\", svc_rbf_score[\"test_score\"].mean())\n",
    "print(\"Support Vector Machines with sigmoid score:\", svc_sigmoid_score[\"test_score\"].mean())"
   ]
  },
  {
   "cell_type": "markdown",
   "id": "69d1885b",
   "metadata": {},
   "source": [
    "Since Naive Bayes showed the best score, I will re-train the model and test it using test data."
   ]
  },
  {
   "cell_type": "code",
   "execution_count": 79,
   "id": "3b411eb4",
   "metadata": {},
   "outputs": [
    {
     "name": "stdout",
     "output_type": "stream",
     "text": [
      "Test set Accuracy: 7457\n",
      "Test set RMSE: 0.26052830940226057\n",
      "Mean validation RMSE: -0.43348068574449605\n"
     ]
    }
   ],
   "source": [
    "# Retrain the model and evaluate\n",
    "import sklearn\n",
    "gnb_re = sklearn.base.clone(gnb)\n",
    "gnb_re.fit(X_train, y_train)\n",
    "print(\"Test set Accuracy:\", accuracy_score(y_test, gnb_re.predict(X_test), normalize=False))\n",
    "print(\"Test set RMSE:\", mean_squared_error(y_test, gnb_re.predict(X_test), squared=False))\n",
    "print(\"Mean validation RMSE:\", -gnb_score[\"test_score\"].mean())"
   ]
  },
  {
   "cell_type": "markdown",
   "id": "3ec1de3c",
   "metadata": {},
   "source": [
    "As seen in Data Visualization, all columns have imbalanced data, so I will apply the sampling strategy"
   ]
  },
  {
   "cell_type": "code",
   "execution_count": null,
   "id": "1c4dc6c9",
   "metadata": {},
   "outputs": [],
   "source": []
  },
  {
   "cell_type": "code",
   "execution_count": null,
   "id": "c4ecef3a",
   "metadata": {},
   "outputs": [],
   "source": []
  },
  {
   "cell_type": "code",
   "execution_count": null,
   "id": "0cfb2a2d",
   "metadata": {},
   "outputs": [],
   "source": []
  },
  {
   "cell_type": "code",
   "execution_count": null,
   "id": "ed8417da",
   "metadata": {},
   "outputs": [],
   "source": []
  },
  {
   "cell_type": "code",
   "execution_count": null,
   "id": "b677ffd2",
   "metadata": {},
   "outputs": [],
   "source": []
  },
  {
   "cell_type": "markdown",
   "id": "56618d6b",
   "metadata": {},
   "source": [
    "# Conclusion"
   ]
  },
  {
   "cell_type": "markdown",
   "id": "c4f07b49",
   "metadata": {},
   "source": [
    "- NEED TO MODIFY LATER\n",
    "<br>We could see that the only 'duration' (last contact duration, in seconds) has positive correlation with the term deposit subscription. This means that no matter how old the customer is, where they lives, or what they do, there are more chances for the person who responds to the call longer to subscribe the term deposit.</br>"
   ]
  },
  {
   "cell_type": "code",
   "execution_count": null,
   "id": "9ae8f1a9",
   "metadata": {},
   "outputs": [],
   "source": []
  },
  {
   "cell_type": "code",
   "execution_count": null,
   "id": "faf48433",
   "metadata": {},
   "outputs": [],
   "source": []
  },
  {
   "cell_type": "markdown",
   "id": "e598866b",
   "metadata": {},
   "source": [
    "# Misc"
   ]
  },
  {
   "cell_type": "code",
   "execution_count": 80,
   "id": "b7cb8117",
   "metadata": {},
   "outputs": [
    {
     "ename": "NameError",
     "evalue": "name 'dt_clf' is not defined",
     "output_type": "error",
     "traceback": [
      "\u001b[0;31m---------------------------------------------------------------------------\u001b[0m",
      "\u001b[0;31mNameError\u001b[0m                                 Traceback (most recent call last)",
      "\u001b[0;32m<ipython-input-80-16037627ae22>\u001b[0m in \u001b[0;36m<module>\u001b[0;34m\u001b[0m\n\u001b[1;32m      1\u001b[0m \u001b[0mcv\u001b[0m \u001b[0;34m=\u001b[0m \u001b[0mKFold\u001b[0m\u001b[0;34m(\u001b[0m\u001b[0;36m5\u001b[0m\u001b[0;34m,\u001b[0m \u001b[0mshuffle\u001b[0m\u001b[0;34m=\u001b[0m\u001b[0;32mTrue\u001b[0m\u001b[0;34m,\u001b[0m \u001b[0mrandom_state\u001b[0m\u001b[0;34m=\u001b[0m\u001b[0;36m135\u001b[0m\u001b[0;34m)\u001b[0m\u001b[0;34m\u001b[0m\u001b[0;34m\u001b[0m\u001b[0m\n\u001b[0;32m----> 2\u001b[0;31m \u001b[0mscores\u001b[0m \u001b[0;34m=\u001b[0m \u001b[0mcross_val_score\u001b[0m\u001b[0;34m(\u001b[0m\u001b[0mdt_clf\u001b[0m\u001b[0;34m,\u001b[0m \u001b[0mX_train\u001b[0m\u001b[0;34m,\u001b[0m \u001b[0my_train\u001b[0m\u001b[0;34m,\u001b[0m \u001b[0mscoring\u001b[0m\u001b[0;34m=\u001b[0m\u001b[0;34m\"accuracy\"\u001b[0m\u001b[0;34m,\u001b[0m \u001b[0mcv\u001b[0m\u001b[0;34m=\u001b[0m\u001b[0mcv\u001b[0m\u001b[0;34m)\u001b[0m\u001b[0;34m\u001b[0m\u001b[0;34m\u001b[0m\u001b[0m\n\u001b[0m\u001b[1;32m      3\u001b[0m \u001b[0mprint\u001b[0m\u001b[0;34m(\u001b[0m\u001b[0;34m'Scores: \\n{}'\u001b[0m\u001b[0;34m.\u001b[0m\u001b[0mformat\u001b[0m\u001b[0;34m(\u001b[0m\u001b[0mscores\u001b[0m\u001b[0;34m)\u001b[0m\u001b[0;34m)\u001b[0m\u001b[0;34m\u001b[0m\u001b[0;34m\u001b[0m\u001b[0m\n\u001b[1;32m      4\u001b[0m \u001b[0mprint\u001b[0m\u001b[0;34m(\u001b[0m\u001b[0;34m'Mean of scores: \\n{:.4f}'\u001b[0m\u001b[0;34m.\u001b[0m\u001b[0mformat\u001b[0m\u001b[0;34m(\u001b[0m\u001b[0mscores\u001b[0m\u001b[0;34m.\u001b[0m\u001b[0mmean\u001b[0m\u001b[0;34m(\u001b[0m\u001b[0;34m)\u001b[0m\u001b[0;34m)\u001b[0m\u001b[0;34m)\u001b[0m\u001b[0;34m\u001b[0m\u001b[0;34m\u001b[0m\u001b[0m\n",
      "\u001b[0;31mNameError\u001b[0m: name 'dt_clf' is not defined"
     ]
    }
   ],
   "source": [
    "cv = KFold(5, shuffle=True, random_state=135)\n",
    "scores = cross_val_score(dt_clf, X_train, y_train, scoring=\"accuracy\", cv=cv)\n",
    "print('Scores: \\n{}'.format(scores))\n",
    "print('Mean of scores: \\n{:.4f}'.format(scores.mean()))"
   ]
  },
  {
   "cell_type": "code",
   "execution_count": null,
   "id": "5df2ba01",
   "metadata": {},
   "outputs": [],
   "source": []
  },
  {
   "cell_type": "code",
   "execution_count": null,
   "id": "08dee520",
   "metadata": {},
   "outputs": [],
   "source": []
  },
  {
   "cell_type": "markdown",
   "id": "c0bf4615",
   "metadata": {},
   "source": [
    "# Stratified K-fold Cross Validation"
   ]
  },
  {
   "cell_type": "code",
   "execution_count": null,
   "id": "7c95b3a9",
   "metadata": {},
   "outputs": [],
   "source": [
    "from sklearn.model_selection import StratifiedKFold"
   ]
  },
  {
   "cell_type": "code",
   "execution_count": null,
   "id": "da9c3d4c",
   "metadata": {},
   "outputs": [],
   "source": [
    "cv_accuracy = []"
   ]
  },
  {
   "cell_type": "code",
   "execution_count": null,
   "id": "e90f150a",
   "metadata": {},
   "outputs": [],
   "source": [
    "skf = StratifiedKFold(n_splits=5)"
   ]
  },
  {
   "cell_type": "code",
   "execution_count": null,
   "id": "2baa108e",
   "metadata": {},
   "outputs": [
    {
     "name": "stdout",
     "output_type": "stream",
     "text": [
      "CV accuracy: 0.9402, Train data size: 32000, Test data size: 8000\n",
      "CV accuracy: 0.9372, Train data size: 32000, Test data size: 8000\n",
      "CV accuracy: 0.9326, Train data size: 32000, Test data size: 8000\n",
      "CV accuracy: 0.9239, Train data size: 32000, Test data size: 8000\n",
      "CV accuracy: 0.9272, Train data size: 32000, Test data size: 8000\n"
     ]
    }
   ],
   "source": [
    "for train_index, test_index in skf.split(X, y):\n",
    "\n",
    "    X_train, X_test = X[train_index], X[test_index]\n",
    "    y_train, y_test = y[train_index], y[test_index]\n",
    "    \n",
    "    model_LR.fit(X_train, y_train)\n",
    "    predict = model_LR.predict(X_test)\n",
    "    \n",
    "    accuracy = np.round(accuracy_score(y_test, predict), 4)\n",
    "    train_size = X_train.shape[0]\n",
    "    test_size = X_test.shape[0]\n",
    "    \n",
    "    print('CV accuracy: {:.4f}, Train data size: {}, Test data size: {}'.format(accuracy, train_size, test_size))\n",
    "    cv_accuracy.append(accuracy)"
   ]
  },
  {
   "cell_type": "code",
   "execution_count": null,
   "id": "3c76a2fe",
   "metadata": {},
   "outputs": [
    {
     "name": "stdout",
     "output_type": "stream",
     "text": [
      "Accuracy_mean: 0.9322\n"
     ]
    }
   ],
   "source": [
    "print(\"Accuracy_mean: {:.4f}\".format(np.mean(cv_accuracy)))"
   ]
  },
  {
   "cell_type": "markdown",
   "id": "bb4ffa05",
   "metadata": {},
   "source": []
  }
 ],
 "metadata": {
  "kernelspec": {
   "display_name": "Python 3",
   "language": "python",
   "name": "python3"
  },
  "language_info": {
   "codemirror_mode": {
    "name": "ipython",
    "version": 3
   },
   "file_extension": ".py",
   "mimetype": "text/x-python",
   "name": "python",
   "nbconvert_exporter": "python",
   "pygments_lexer": "ipython3",
   "version": "3.8.3"
  },
  "vscode": {
   "interpreter": {
    "hash": "40d3a090f54c6569ab1632332b64b2c03c39dcf918b08424e98f38b5ae0af88f"
   }
  }
 },
 "nbformat": 4,
 "nbformat_minor": 5
}
